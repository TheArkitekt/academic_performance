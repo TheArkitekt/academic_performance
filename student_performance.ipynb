{
 "cells": [
  {
   "cell_type": "markdown",
   "id": "93267a4b-44df-49b7-bc95-6a93ae747574",
   "metadata": {
    "id": "93267a4b-44df-49b7-bc95-6a93ae747574"
   },
   "source": [
    "Студенты успешно завершили два семестра обучения и теперь руководство хочет получить детальную информацию о том:\n",
    "**а)** изменилась ли успеваемость по сравнению с предыдущим семестром;\n",
    "**б)** больше ли студентов не явилось на контрольные и прочие финальные испытания (вкл. устный экзамен);\n",
    "**в)** изменился ли средний балл за устный экзамен? за семестр?\n",
    "**г)** есть ли особенности у групп разных уровней (от Elementary до Advanced), которые следует учитывать при методическом планировании нагрузки\n",
    "**д)** группы какого уровня показали лучшую успеваемость по итогам года/каждого конкретного семестра? и т.д\n",
    "\n",
    "\n",
    "**Задача – сравнить успеваемость разных групп студентов и ответить на вопроы выше**\n",
    "\n",
    "**Описание данных:** два .csv файла* с оценками и идентичной структурой колонок, отражающие успеваемость по разным аспектам\n",
    "в течение одного семестра каждый.\n",
    "*персональные данные студентов заменены на uuid'ы в целях анонимизации и соблюдения всех требований обработки\n",
    "такого типа персональных данных.\n",
    "\n",
    "Столбцы:  \n",
    "**stud_id** - уникальный идентификатор студента(uuid)                                                                          \n",
    "**level** - уровень группы по шкале CEFR (от Elementary до Advanced)                                                                \n",
    "**group** - номер группы (условный)\n",
    "\n",
    "**practice_m1/m2/m3/m4** - баллы за работу на практических занятиях в 1,2,3 и 4 модуле соответственно(MAX - 15)                                  \n",
    "**grammar_m1/m2/m3/m4** - баллы за работу занятиях по грамматике в 1,2,3 и 4 модуле соответственно. (MAX - 10)\n",
    "\n",
    "**case_study/2nd_term** - баллы за решение прикладного кейса(ситуации, которая описывает финансовое положение конкрентной компании, вызовы, которые перед ней лежат и цели, которые нужно достичь. Студенты дожны выработать решение и предоставить отчет (MAX - 10)\n",
    "\n",
    "**final_test** - баллы за финальный тест (последнее письменное испытание перед экзаменом (MAX - 10)                                      \n",
    "**oral_exam** - баллы за ответ на устном экзамене (MAX - 20, 0 баллов при отказе от ответа)                                            \n",
    "**pre_exam_total** - кол-во баллов за весь семестр за вычетом устного ответа на экзамене (MAX - 80)                                         \n",
    "**total** - общее кол-во баллов за весь семестр (MAX - 100)                                      "
   ]
  },
  {
   "cell_type": "markdown",
   "id": "a5f3cf9e-ffc7-484e-a05f-f65508a9e287",
   "metadata": {
    "id": "a5f3cf9e-ffc7-484e-a05f-f65508a9e287"
   },
   "source": [
    "# Импорт библиотке и краткий EDA"
   ]
  },
  {
   "cell_type": "code",
   "execution_count": 1,
   "id": "8e913bc3-0b76-4def-9be6-36707be976e1",
   "metadata": {
    "id": "8e913bc3-0b76-4def-9be6-36707be976e1"
   },
   "outputs": [],
   "source": [
    "#импорт необходимых библиотек\n",
    "import pandas as pd\n",
    "pd.plotting.register_matplotlib_converters()\n",
    "import matplotlib.pyplot as plt\n",
    "%matplotlib inline\n",
    "import seaborn as sns"
   ]
  },
  {
   "cell_type": "code",
   "execution_count": 2,
   "id": "9a1c90aa-f1aa-421e-859b-f3554ff22ed9",
   "metadata": {
    "id": "9a1c90aa-f1aa-421e-859b-f3554ff22ed9"
   },
   "outputs": [
    {
     "name": "stdout",
     "output_type": "stream",
     "text": [
      "Проверьте расположение файла\n"
     ]
    }
   ],
   "source": [
    "#Загрузим данные успеваемости за первый семестр\n",
    "try:\n",
    "    df = pd.read_excel('D:/datasets/points_mib_3rd_year.xlsx', index_col=0, decimal=',')\n",
    "except:\n",
    "    df = pd.read_excel('points_mib_3rd_year.xlsx', index_col=0, decimal=',')\n",
    "else:\n",
    "    print('Проверьте расположение файла')"
   ]
  },
  {
   "cell_type": "code",
   "execution_count": 3,
   "id": "51cfdf87-d346-42da-a428-8f5050730a3f",
   "metadata": {
    "colab": {
     "base_uri": "https://localhost:8080/",
     "height": 403
    },
    "id": "51cfdf87-d346-42da-a428-8f5050730a3f",
    "outputId": "8ce02e96-74d9-463f-a38f-d21cf22fa886"
   },
   "outputs": [
    {
     "data": {
      "text/html": [
       "<div>\n",
       "<style scoped>\n",
       "    .dataframe tbody tr th:only-of-type {\n",
       "        vertical-align: middle;\n",
       "    }\n",
       "\n",
       "    .dataframe tbody tr th {\n",
       "        vertical-align: top;\n",
       "    }\n",
       "\n",
       "    .dataframe thead th {\n",
       "        text-align: right;\n",
       "    }\n",
       "</style>\n",
       "<table border=\"1\" class=\"dataframe\">\n",
       "  <thead>\n",
       "    <tr style=\"text-align: right;\">\n",
       "      <th></th>\n",
       "      <th>stud_id</th>\n",
       "      <th>level</th>\n",
       "      <th>group</th>\n",
       "      <th>practice_m1</th>\n",
       "      <th>grammar_m1</th>\n",
       "      <th>midterm</th>\n",
       "      <th>practice_m2</th>\n",
       "      <th>grammar_m2</th>\n",
       "      <th>case_study</th>\n",
       "      <th>final_test</th>\n",
       "      <th>oral_exam</th>\n",
       "      <th>pre_exam_total</th>\n",
       "      <th>total</th>\n",
       "    </tr>\n",
       "  </thead>\n",
       "  <tbody>\n",
       "    <tr>\n",
       "      <th>549</th>\n",
       "      <td>7a122d75-250e-4138-b7fe-f53e00f3a53b</td>\n",
       "      <td>elem</td>\n",
       "      <td>38</td>\n",
       "      <td>12.0</td>\n",
       "      <td>7.0</td>\n",
       "      <td>7</td>\n",
       "      <td>4.0</td>\n",
       "      <td>3.0</td>\n",
       "      <td>8</td>\n",
       "      <td>6.5</td>\n",
       "      <td>0</td>\n",
       "      <td>47.5</td>\n",
       "      <td>47.5</td>\n",
       "    </tr>\n",
       "    <tr>\n",
       "      <th>83</th>\n",
       "      <td>e6468b52-a85c-42a3-bee3-1ff7a7b66bb3</td>\n",
       "      <td>advanced</td>\n",
       "      <td>6</td>\n",
       "      <td>13.0</td>\n",
       "      <td>10.0</td>\n",
       "      <td>7.7</td>\n",
       "      <td>9.0</td>\n",
       "      <td>3.0</td>\n",
       "      <td>10</td>\n",
       "      <td>8.3</td>\n",
       "      <td>19</td>\n",
       "      <td>61.0</td>\n",
       "      <td>80.0</td>\n",
       "    </tr>\n",
       "    <tr>\n",
       "      <th>524</th>\n",
       "      <td>faa4c462-56fa-47fa-88c1-5e90d0e610bc</td>\n",
       "      <td>elem</td>\n",
       "      <td>37</td>\n",
       "      <td>15.0</td>\n",
       "      <td>10.0</td>\n",
       "      <td>5.1</td>\n",
       "      <td>12.0</td>\n",
       "      <td>7.0</td>\n",
       "      <td>7</td>\n",
       "      <td>dnw</td>\n",
       "      <td>0</td>\n",
       "      <td>56.1</td>\n",
       "      <td>56.1</td>\n",
       "    </tr>\n",
       "    <tr>\n",
       "      <th>333</th>\n",
       "      <td>c487d336-a340-4f20-ad39-dc6c799aaad9</td>\n",
       "      <td>inter</td>\n",
       "      <td>24</td>\n",
       "      <td>14.0</td>\n",
       "      <td>9.3</td>\n",
       "      <td>8.7</td>\n",
       "      <td>12.0</td>\n",
       "      <td>8.0</td>\n",
       "      <td>7.5</td>\n",
       "      <td>8.1</td>\n",
       "      <td>18</td>\n",
       "      <td>67.6</td>\n",
       "      <td>85.6</td>\n",
       "    </tr>\n",
       "  </tbody>\n",
       "</table>\n",
       "</div>"
      ],
      "text/plain": [
       "                                  stud_id     level  group  practice_m1  \\\n",
       "549  7a122d75-250e-4138-b7fe-f53e00f3a53b      elem     38         12.0   \n",
       "83   e6468b52-a85c-42a3-bee3-1ff7a7b66bb3  advanced      6         13.0   \n",
       "524  faa4c462-56fa-47fa-88c1-5e90d0e610bc      elem     37         15.0   \n",
       "333  c487d336-a340-4f20-ad39-dc6c799aaad9     inter     24         14.0   \n",
       "\n",
       "     grammar_m1 midterm  practice_m2  grammar_m2 case_study final_test  \\\n",
       "549         7.0       7          4.0         3.0          8        6.5   \n",
       "83         10.0     7.7          9.0         3.0         10        8.3   \n",
       "524        10.0     5.1         12.0         7.0          7        dnw   \n",
       "333         9.3     8.7         12.0         8.0        7.5        8.1   \n",
       "\n",
       "    oral_exam  pre_exam_total  total  \n",
       "549         0            47.5   47.5  \n",
       "83         19            61.0   80.0  \n",
       "524         0            56.1   56.1  \n",
       "333        18            67.6   85.6  "
      ]
     },
     "execution_count": 3,
     "metadata": {},
     "output_type": "execute_result"
    }
   ],
   "source": [
    "#краткая проверка загрузки файла\n",
    "df.sample(4, random_state=42)"
   ]
  },
  {
   "cell_type": "code",
   "execution_count": 4,
   "id": "5734fa59-c652-45e5-9a72-bcbbaf260981",
   "metadata": {
    "id": "5734fa59-c652-45e5-9a72-bcbbaf260981"
   },
   "outputs": [],
   "source": [
    "#Загрузим данные успеваемости за второй семестр\n",
    "try:\n",
    "    df2 = pd.read_excel('D:/datasets/points_mib_3rd_year_2nd_term.xlsx', index_col=0, decimal=',')\n",
    "except:\n",
    "    df2 = pd.read_excel('points_mib_3rd_year_2nd_term.xlsx', index_col=0, decimal=',')"
   ]
  },
  {
   "cell_type": "code",
   "execution_count": 5,
   "id": "624c8424-a6a1-4e91-8a71-48395f077c80",
   "metadata": {
    "colab": {
     "base_uri": "https://localhost:8080/",
     "height": 403
    },
    "id": "624c8424-a6a1-4e91-8a71-48395f077c80",
    "outputId": "f8dfcaba-680a-4ff2-8b62-cae7da43b29f"
   },
   "outputs": [
    {
     "data": {
      "text/html": [
       "<div>\n",
       "<style scoped>\n",
       "    .dataframe tbody tr th:only-of-type {\n",
       "        vertical-align: middle;\n",
       "    }\n",
       "\n",
       "    .dataframe tbody tr th {\n",
       "        vertical-align: top;\n",
       "    }\n",
       "\n",
       "    .dataframe thead th {\n",
       "        text-align: right;\n",
       "    }\n",
       "</style>\n",
       "<table border=\"1\" class=\"dataframe\">\n",
       "  <thead>\n",
       "    <tr style=\"text-align: right;\">\n",
       "      <th></th>\n",
       "      <th>stud_id</th>\n",
       "      <th>level</th>\n",
       "      <th>group</th>\n",
       "      <th>practice_m3</th>\n",
       "      <th>grammar_m3</th>\n",
       "      <th>midterm_m3</th>\n",
       "      <th>practice_m4</th>\n",
       "      <th>grammar_m4</th>\n",
       "      <th>case_study_2nd_term</th>\n",
       "      <th>final_test_2nd_term</th>\n",
       "      <th>oral_exam_2nd_term</th>\n",
       "      <th>pre_exam_total_m4</th>\n",
       "      <th>total_2nd_term</th>\n",
       "    </tr>\n",
       "  </thead>\n",
       "  <tbody>\n",
       "    <tr>\n",
       "      <th>141</th>\n",
       "      <td>3db4a79e-2661-4043-8add-1e48c9dc0eb1</td>\n",
       "      <td>upper</td>\n",
       "      <td>11</td>\n",
       "      <td>7.0</td>\n",
       "      <td>7.0</td>\n",
       "      <td>6.9</td>\n",
       "      <td>NaN</td>\n",
       "      <td>NaN</td>\n",
       "      <td>8</td>\n",
       "      <td>8.6</td>\n",
       "      <td>16</td>\n",
       "      <td>37.5</td>\n",
       "      <td>53.5</td>\n",
       "    </tr>\n",
       "    <tr>\n",
       "      <th>398</th>\n",
       "      <td>684d9bdf-cd1b-47fd-bb36-073aaba58186</td>\n",
       "      <td>inter</td>\n",
       "      <td>31</td>\n",
       "      <td>15.0</td>\n",
       "      <td>10.0</td>\n",
       "      <td>8.7</td>\n",
       "      <td>13.0</td>\n",
       "      <td>10.0</td>\n",
       "      <td>7.8</td>\n",
       "      <td>8.8</td>\n",
       "      <td>15.5</td>\n",
       "      <td>73.3</td>\n",
       "      <td>88.8</td>\n",
       "    </tr>\n",
       "    <tr>\n",
       "      <th>7</th>\n",
       "      <td>588d0d57-be21-4a14-ae3c-d2685b067076</td>\n",
       "      <td>advanced</td>\n",
       "      <td>1</td>\n",
       "      <td>1.1</td>\n",
       "      <td>0.0</td>\n",
       "      <td>dnw</td>\n",
       "      <td>0.0</td>\n",
       "      <td>0.0</td>\n",
       "      <td>dnw</td>\n",
       "      <td>dnw</td>\n",
       "      <td>dnc</td>\n",
       "      <td>1.1</td>\n",
       "      <td>1.1</td>\n",
       "    </tr>\n",
       "    <tr>\n",
       "      <th>335</th>\n",
       "      <td>edbc2dbb-356e-4b6b-9909-e54c45679108</td>\n",
       "      <td>inter</td>\n",
       "      <td>26</td>\n",
       "      <td>12.0</td>\n",
       "      <td>9.0</td>\n",
       "      <td>8.2</td>\n",
       "      <td>12.3</td>\n",
       "      <td>6.0</td>\n",
       "      <td>8.5</td>\n",
       "      <td>6.1</td>\n",
       "      <td>13.5</td>\n",
       "      <td>62.1</td>\n",
       "      <td>75.6</td>\n",
       "    </tr>\n",
       "  </tbody>\n",
       "</table>\n",
       "</div>"
      ],
      "text/plain": [
       "                                  stud_id     level  group  practice_m3  \\\n",
       "141  3db4a79e-2661-4043-8add-1e48c9dc0eb1     upper     11          7.0   \n",
       "398  684d9bdf-cd1b-47fd-bb36-073aaba58186     inter     31         15.0   \n",
       "7    588d0d57-be21-4a14-ae3c-d2685b067076  advanced      1          1.1   \n",
       "335  edbc2dbb-356e-4b6b-9909-e54c45679108     inter     26         12.0   \n",
       "\n",
       "     grammar_m3 midterm_m3  practice_m4  grammar_m4 case_study_2nd_term  \\\n",
       "141         7.0        6.9          NaN         NaN                   8   \n",
       "398        10.0        8.7         13.0        10.0                 7.8   \n",
       "7           0.0        dnw          0.0         0.0                 dnw   \n",
       "335         9.0        8.2         12.3         6.0                 8.5   \n",
       "\n",
       "    final_test_2nd_term oral_exam_2nd_term  pre_exam_total_m4  total_2nd_term  \n",
       "141                 8.6                 16               37.5            53.5  \n",
       "398                 8.8               15.5               73.3            88.8  \n",
       "7                   dnw                dnc                1.1             1.1  \n",
       "335                 6.1               13.5               62.1            75.6  "
      ]
     },
     "execution_count": 5,
     "metadata": {},
     "output_type": "execute_result"
    }
   ],
   "source": [
    "#краткая проверка результата\n",
    "df2.sample(4, random_state=42)"
   ]
  },
  {
   "cell_type": "code",
   "execution_count": 6,
   "id": "A0YRrhc0XJom",
   "metadata": {
    "id": "A0YRrhc0XJom"
   },
   "outputs": [],
   "source": [
    "#напишем функцию для краткого обзора набора данных\n",
    "def eda_analyse(df):\n",
    "    '''\n",
    "    Функция eda_analyse принимает на вход \n",
    "    датафрейм и возвращает краткую сводку\n",
    "    о кол-ве столбцов, строк, сумме явных \n",
    "    дубликатов, среднем кол-во пропусков в столбцах,\n",
    "    а также расходе памяти каждым столбцом\n",
    "    '''\n",
    "    print(f'Датасет содержит {df.shape[0]} cтроки(-у) и {df.shape[1]} столбцов.\\n')\n",
    "    print(f'В наборе данных имеется {df.duplicated().sum()} явных дубликатов.\\n')\n",
    "    print('Среднее количество пропусков в столбцах равно:\\n', df.isna().mean())\n",
    "    print('Каждый столбец датафрейма расходует памяти:\\n', df.memory_usage(deep=True))"
   ]
  },
  {
   "cell_type": "code",
   "execution_count": 7,
   "id": "AUDMtc3gYj-Q",
   "metadata": {
    "colab": {
     "base_uri": "https://localhost:8080/"
    },
    "id": "AUDMtc3gYj-Q",
    "outputId": "c8202de6-4dfe-4522-ab3d-11020fe31666"
   },
   "outputs": [
    {
     "name": "stdout",
     "output_type": "stream",
     "text": [
      "Датасет содержит 553 cтроки(-у) и 13 столбцов.\n",
      "\n",
      "В наборе данных имеется 0 явных дубликатов.\n",
      "\n",
      "Среднее количество пропусков в столбцах равно:\n",
      " stud_id           0.000000\n",
      "level             0.000000\n",
      "group             0.000000\n",
      "practice_m1       0.001808\n",
      "grammar_m1        0.001808\n",
      "midterm           0.000000\n",
      "practice_m2       0.001808\n",
      "grammar_m2        0.001808\n",
      "case_study        0.007233\n",
      "final_test        0.001808\n",
      "oral_exam         0.003617\n",
      "pre_exam_total    0.000000\n",
      "total             0.000000\n",
      "dtype: float64\n",
      "Каждый столбец датафрейма расходует памяти:\n",
      " Index              4424\n",
      "stud_id           51429\n",
      "level             34957\n",
      "group              4424\n",
      "practice_m1        4424\n",
      "grammar_m1         4424\n",
      "midterm           18848\n",
      "practice_m2        4424\n",
      "grammar_m2         4424\n",
      "case_study        20224\n",
      "final_test        18808\n",
      "oral_exam         20344\n",
      "pre_exam_total     4424\n",
      "total              4424\n",
      "dtype: int64\n"
     ]
    }
   ],
   "source": [
    "#проверим на первом наборе данных\n",
    "eda_analyse(df)"
   ]
  },
  {
   "cell_type": "code",
   "execution_count": 8,
   "id": "oICIPP6WY5jx",
   "metadata": {
    "colab": {
     "base_uri": "https://localhost:8080/"
    },
    "id": "oICIPP6WY5jx",
    "outputId": "fc4e28aa-6e88-439e-c8ea-2bee5864e6b2"
   },
   "outputs": [
    {
     "name": "stdout",
     "output_type": "stream",
     "text": [
      "Датасет содержит 529 cтроки(-у) и 13 столбцов.\n",
      "\n",
      "В наборе данных имеется 0 явных дубликатов.\n",
      "\n",
      "Среднее количество пропусков в столбцах равно:\n",
      " stud_id                0.000000\n",
      "level                  0.000000\n",
      "group                  0.000000\n",
      "practice_m3            0.003781\n",
      "grammar_m3             0.003781\n",
      "midterm_m3             0.003781\n",
      "practice_m4            0.001890\n",
      "grammar_m4             0.003781\n",
      "case_study_2nd_term    0.000000\n",
      "final_test_2nd_term    0.001890\n",
      "oral_exam_2nd_term     0.007561\n",
      "pre_exam_total_m4      0.000000\n",
      "total_2nd_term         0.001890\n",
      "dtype: float64\n",
      "Каждый столбец датафрейма расходует памяти:\n",
      " Index                   4232\n",
      "stud_id                49197\n",
      "level                  33503\n",
      "group                   4232\n",
      "practice_m3             4232\n",
      "grammar_m3              4232\n",
      "midterm_m3             17912\n",
      "practice_m4             4232\n",
      "grammar_m4              4232\n",
      "case_study_2nd_term    19104\n",
      "final_test_2nd_term    18016\n",
      "oral_exam_2nd_term     19724\n",
      "pre_exam_total_m4       4232\n",
      "total_2nd_term          4232\n",
      "dtype: int64\n"
     ]
    }
   ],
   "source": [
    "#повторим на втором датасете\n",
    "eda_analyse(df2)"
   ]
  },
  {
   "cell_type": "markdown",
   "id": "4a38a1b5-91e3-4b3e-9215-08812a00b391",
   "metadata": {},
   "source": [
    "**Проверим, что docstring для описания функционала функции сохранился, если кто-то из коллег в дальнейшем захочет уточнить его.**"
   ]
  },
  {
   "cell_type": "code",
   "execution_count": 9,
   "id": "9cd16a1c-7f25-4280-ac14-e9288be6de9f",
   "metadata": {},
   "outputs": [
    {
     "data": {
      "text/plain": [
       "\u001b[1;31mSignature:\u001b[0m \u001b[0meda_analyse\u001b[0m\u001b[1;33m(\u001b[0m\u001b[0mdf\u001b[0m\u001b[1;33m)\u001b[0m\u001b[1;33m\u001b[0m\u001b[1;33m\u001b[0m\u001b[0m\n",
       "\u001b[1;31mDocstring:\u001b[0m\n",
       "Функция eda_analyse принимает на вход \n",
       "датафрейм и возвращает краткую сводку\n",
       "о кол-ве столбцов, строк, сумме явных \n",
       "дубликатов, среднем кол-во пропусков в столбцах,\n",
       "а также расходе памяти каждым столбцом\n",
       "\u001b[1;31mFile:\u001b[0m      c:\\users\\john\\appdata\\local\\temp\\ipykernel_12812\\1120882777.py\n",
       "\u001b[1;31mType:\u001b[0m      function"
      ]
     },
     "metadata": {},
     "output_type": "display_data"
    }
   ],
   "source": [
    "eda_analyse?"
   ]
  },
  {
   "cell_type": "markdown",
   "id": "deadd596-714d-4ef7-85ae-59e14767b0be",
   "metadata": {},
   "source": [
    "*Мы можем заметить пропуски в обоих датасетах, поскольку таблицы заполняются преподавателями вручную, то возможны пропуски вместо \"неявка\" и тд, которые мы ниже безвозбранно заменим на нули, поскольку в данном случае они эквивалентны. Также ряд столбцов с числовыми значениями с плавающей точкой указаны как строки, поскольку наборы данных содержат пометки **dnc/dnw**(*неявка/не писал тест* соответственно)*\n",
    "* Поэтому мы визуализируем эти пропуски тестов и неявки для получения статистических данных, а затем заполним их нулями."
   ]
  },
  {
   "cell_type": "markdown",
   "id": "d065c7a8-507b-4a84-8eb7-299c55051fbb",
   "metadata": {
    "id": "d065c7a8-507b-4a84-8eb7-299c55051fbb"
   },
   "source": [
    "**В данном случае датасеты крошечные, а самые \"громоздкие\" в плане памяти столбцы - строковые. Здесь мы не станем прибегать к оптимизации, но на датасетах в 1+млн. строк следовало бы некоторые из них привести к типу Categorical, а целочисленные значения и таковые с дробной частью перевести в типы данных с меньшей разряднстью(int64 -> int8/int16, float64 -> float32/float16) в зависимости от максимального и минимально возможного значения для этих величин**"
   ]
  },
  {
   "cell_type": "code",
   "execution_count": 12,
   "id": "4394a3d4-3c7d-4b8d-bfc7-1813ecd8afa7",
   "metadata": {
    "colab": {
     "base_uri": "https://localhost:8080/"
    },
    "id": "4394a3d4-3c7d-4b8d-bfc7-1813ecd8afa7",
    "outputId": "6973c29e-40d3-44f9-d9e9-4e0b053e34ca"
   },
   "outputs": [
    {
     "name": "stdout",
     "output_type": "stream",
     "text": [
      "Число студентов в 1м семестре 553\n",
      "\n",
      "Число студентов в 2м семестре 529\n",
      "\n",
      "Во 2м семестре кол-во студентов изменилось на -4.3%\n"
     ]
    }
   ],
   "source": [
    "#оценим кол-во студентов по состоянию на 1й и 2й семестры\n",
    "print(f'Число студентов в 1м семестре {df.stud_id.count()}')\n",
    "print()\n",
    "print(f'Число студентов в 2м семестре {df2.stud_id.count()}')\n",
    "print()\n",
    "print(f'Во 2м семестре кол-во студентов изменилось на {(df2.stud_id.count() - df.stud_id.count())/df.stud_id.count():.1%}')"
   ]
  },
  {
   "cell_type": "markdown",
   "id": "b19fe32d-54b1-4be7-9715-be3ecf59ac52",
   "metadata": {
    "id": "b19fe32d-54b1-4be7-9715-be3ecf59ac52"
   },
   "source": [
    "**Количество студентов снизилось по результам зимней сессии.**"
   ]
  },
  {
   "cell_type": "markdown",
   "id": "a944aca5-2f21-46d5-b20b-569f0a6030d4",
   "metadata": {
    "id": "a944aca5-2f21-46d5-b20b-569f0a6030d4"
   },
   "source": [
    "## Заполнение пропусков, более детальное изучение"
   ]
  },
  {
   "cell_type": "code",
   "execution_count": 13,
   "id": "dcf548a6-581f-41d5-9233-967ff295b149",
   "metadata": {
    "colab": {
     "base_uri": "https://localhost:8080/"
    },
    "id": "dcf548a6-581f-41d5-9233-967ff295b149",
    "outputId": "35ce2025-9f2e-4053-99d4-95e3d1155dca"
   },
   "outputs": [
    {
     "name": "stdout",
     "output_type": "stream",
     "text": [
      "<class 'pandas.core.frame.DataFrame'>\n",
      "Index: 553 entries, 1 to 553\n",
      "Data columns (total 13 columns):\n",
      " #   Column          Non-Null Count  Dtype  \n",
      "---  ------          --------------  -----  \n",
      " 0   stud_id         553 non-null    object \n",
      " 1   level           553 non-null    object \n",
      " 2   group           553 non-null    int64  \n",
      " 3   practice_m1     552 non-null    float64\n",
      " 4   grammar_m1      552 non-null    float64\n",
      " 5   midterm         553 non-null    object \n",
      " 6   practice_m2     552 non-null    float64\n",
      " 7   grammar_m2      552 non-null    float64\n",
      " 8   case_study      549 non-null    object \n",
      " 9   final_test      552 non-null    object \n",
      " 10  oral_exam       551 non-null    object \n",
      " 11  pre_exam_total  553 non-null    float64\n",
      " 12  total           553 non-null    float64\n",
      "dtypes: float64(6), int64(1), object(6)\n",
      "memory usage: 60.5+ KB\n"
     ]
    }
   ],
   "source": [
    "#анализ размера датасета и типов данных\n",
    "df.info()"
   ]
  },
  {
   "cell_type": "code",
   "execution_count": 14,
   "id": "52a0e968-10d8-4060-898a-5cbee76d5967",
   "metadata": {
    "colab": {
     "base_uri": "https://localhost:8080/"
    },
    "id": "52a0e968-10d8-4060-898a-5cbee76d5967",
    "outputId": "edbd9191-cfa0-4c6c-fd33-b8125b29d8c0"
   },
   "outputs": [
    {
     "name": "stdout",
     "output_type": "stream",
     "text": [
      "<class 'pandas.core.frame.DataFrame'>\n",
      "Index: 529 entries, 1 to 529\n",
      "Data columns (total 13 columns):\n",
      " #   Column               Non-Null Count  Dtype  \n",
      "---  ------               --------------  -----  \n",
      " 0   stud_id              529 non-null    object \n",
      " 1   level                529 non-null    object \n",
      " 2   group                529 non-null    int64  \n",
      " 3   practice_m3          527 non-null    float64\n",
      " 4   grammar_m3           527 non-null    float64\n",
      " 5   midterm_m3           527 non-null    object \n",
      " 6   practice_m4          528 non-null    float64\n",
      " 7   grammar_m4           527 non-null    float64\n",
      " 8   case_study_2nd_term  529 non-null    object \n",
      " 9   final_test_2nd_term  528 non-null    object \n",
      " 10  oral_exam_2nd_term   525 non-null    object \n",
      " 11  pre_exam_total_m4    529 non-null    float64\n",
      " 12  total_2nd_term       528 non-null    float64\n",
      "dtypes: float64(6), int64(1), object(6)\n",
      "memory usage: 57.9+ KB\n"
     ]
    }
   ],
   "source": [
    "#анализ размера датасета и типов данных (2й семестр)\n",
    "df2.info()"
   ]
  },
  {
   "cell_type": "markdown",
   "id": "6ff00946-ec90-488d-8883-0dae9c564907",
   "metadata": {
    "id": "6ff00946-ec90-488d-8883-0dae9c564907"
   },
   "source": [
    "### Есть ли изменения по количеству неявок на экзамен?"
   ]
  },
  {
   "cell_type": "code",
   "execution_count": 15,
   "id": "9e8e36ba-d34b-4ebb-9765-bbbea25e41b9",
   "metadata": {
    "colab": {
     "base_uri": "https://localhost:8080/"
    },
    "id": "9e8e36ba-d34b-4ebb-9765-bbbea25e41b9",
    "outputId": "9ce2c38b-f1bd-4aa2-eb3b-c1f9812a308d"
   },
   "outputs": [
    {
     "name": "stdout",
     "output_type": "stream",
     "text": [
      "Неявки в 1-м семестре: 27\n",
      "Неявки во 2-м семестре: 36\n"
     ]
    }
   ],
   "source": [
    "#изучим, как много неявок было на экзамен\n",
    "print('Неявки в 1-м семестре:', df[df.oral_exam == 'dnc']['oral_exam'].count())\n",
    "print('Неявки во 2-м семестре:', df2[df2.oral_exam_2nd_term == 'dnc']['oral_exam_2nd_term'].count())"
   ]
  },
  {
   "cell_type": "code",
   "execution_count": 16,
   "id": "a56e9e68-efb0-475c-9410-2a0f2cbe465c",
   "metadata": {
    "id": "a56e9e68-efb0-475c-9410-2a0f2cbe465c"
   },
   "outputs": [],
   "source": [
    "'''создадим переменные с общим кол-вом студентов\n",
    "    в формате для констант в соответствии с PEP8\n",
    "'''\n",
    "#общее кол-во студентов\n",
    "FIRST_TERM_COUNT =  df.count()['stud_id']\n",
    "SECOND_TERM_COUNT =  df2.count()['stud_id']\n",
    "#кол-во неявок\n",
    "FIRST_TERM_DNC = df[df.oral_exam == 'dnc']['oral_exam'].count()\n",
    "SECOND_TERM_DNC = df2[df2.oral_exam_2nd_term == 'dnc']['oral_exam_2nd_term'].count()"
   ]
  },
  {
   "cell_type": "code",
   "execution_count": 17,
   "id": "987bcc47-b6d5-488a-adad-f92ad2cb56d1",
   "metadata": {
    "colab": {
     "base_uri": "https://localhost:8080/"
    },
    "id": "987bcc47-b6d5-488a-adad-f92ad2cb56d1",
    "outputId": "2bb52f3f-8448-477a-84cb-98b8ac8bbc5d"
   },
   "outputs": [
    {
     "name": "stdout",
     "output_type": "stream",
     "text": [
      "Общее кол-во студентов по состоянию на первый семестр: 553\n",
      "Общее кол-во студентов по состоянию на второй семестр: 529\n"
     ]
    }
   ],
   "source": [
    "print('Общее кол-во студентов по состоянию на первый семестр:', FIRST_TERM_COUNT)\n",
    "print('Общее кол-во студентов по состоянию на второй семестр:', SECOND_TERM_COUNT)"
   ]
  },
  {
   "cell_type": "code",
   "execution_count": 18,
   "id": "468b7773-a8aa-42d9-b46d-300464ba364e",
   "metadata": {
    "colab": {
     "base_uri": "https://localhost:8080/"
    },
    "id": "468b7773-a8aa-42d9-b46d-300464ba364e",
    "outputId": "07518a6b-2d40-43b0-d17a-62b621bf07f7"
   },
   "outputs": [
    {
     "name": "stdout",
     "output_type": "stream",
     "text": [
      "Процент неявок в 1м семестре: 4.9%, во 2м семестре: 6.8%\n"
     ]
    }
   ],
   "source": [
    "#вычислим процент неявок от числа студентов\n",
    "print(f'Процент неявок в 1м семестре: {FIRST_TERM_DNC/FIRST_TERM_COUNT:.1%}, во 2м семестре: {SECOND_TERM_DNC/SECOND_TERM_COUNT:.1%}')"
   ]
  },
  {
   "cell_type": "markdown",
   "id": "02c4cdff-68bb-47a5-8051-a54ef8cda642",
   "metadata": {
    "id": "02c4cdff-68bb-47a5-8051-a54ef8cda642"
   },
   "source": [
    "Перейдем к анализу количества неявок в сравнении с разбросом баллов за экзамен"
   ]
  },
  {
   "cell_type": "code",
   "execution_count": 19,
   "id": "e6cd4788-bfd2-47a9-80d1-f113ff95b29e",
   "metadata": {
    "colab": {
     "base_uri": "https://localhost:8080/",
     "height": 510
    },
    "id": "e6cd4788-bfd2-47a9-80d1-f113ff95b29e",
    "outputId": "9db668ff-f564-4ebe-a44d-e7126078ca26"
   },
   "outputs": [
    {
     "data": {
      "image/png": "[encoded data removed]",
      "text/plain": [
       "<Figure size 640x480 with 1 Axes>"
      ]
     },
     "metadata": {},
     "output_type": "display_data"
    }
   ],
   "source": [
    "df.oral_exam.value_counts().plot(kind='bar', grid=True, title='Разброс результатов сдачи устн. экамена, 1 семестр (баллов)\\n');"
   ]
  },
  {
   "cell_type": "code",
   "execution_count": 20,
   "id": "82a423e1-24de-4f55-9081-6132ee89b6aa",
   "metadata": {
    "colab": {
     "base_uri": "https://localhost:8080/",
     "height": 510
    },
    "id": "82a423e1-24de-4f55-9081-6132ee89b6aa",
    "outputId": "1bf9c4e1-4bcd-4b3f-fb80-6fa77a423f8d"
   },
   "outputs": [
    {
     "data": {
      "image/png": "[encoded data removed]",
      "text/plain": [
       "<Figure size 640x480 with 1 Axes>"
      ]
     },
     "metadata": {},
     "output_type": "display_data"
    }
   ],
   "source": [
    "df2.oral_exam_2nd_term.value_counts().plot(kind='bar', grid=True, title='Разброс результатов сдачи устн. экамена, 2й семестр (баллов)\\n');"
   ]
  },
  {
   "cell_type": "markdown",
   "id": "ce85e191-4a9f-46e5-bc17-92155d86de84",
   "metadata": {
    "id": "ce85e191-4a9f-46e5-bc17-92155d86de84"
   },
   "source": [
    "**Любопытно, что в обоих случаях самые многочисленные исходы - это 0(отказ от ответа) и 20, или же максимальный балл. Также стабильно примерно 4-6й по частотности вариант - неявка.**"
   ]
  },
  {
   "cell_type": "markdown",
   "id": "4d72f5f0-3848-4078-be3d-efba4e345666",
   "metadata": {
    "id": "4d72f5f0-3848-4078-be3d-efba4e345666"
   },
   "source": [
    "## Продолжение EDA"
   ]
  },
  {
   "cell_type": "markdown",
   "id": "7ed7f71c-4530-4274-b48c-2a19ee206be0",
   "metadata": {
    "id": "7ed7f71c-4530-4274-b48c-2a19ee206be0"
   },
   "source": [
    "Теперь заменим строки dnw(=did not write/не писал) и dnc(=did not come/не явился) на нулевые значения, которые им эквивалентны. Применим функцию ко всему датафрейму, чтобы не делать слишком громоздкий код, ведь значения dnw/dnc могут быть в половине столбцов датасетов."
   ]
  },
  {
   "cell_type": "code",
   "execution_count": 21,
   "id": "edc5854b-c965-4c10-bb8a-c74d0c370806",
   "metadata": {
    "id": "edc5854b-c965-4c10-bb8a-c74d0c370806"
   },
   "outputs": [],
   "source": [
    "#проделаем процедуру для данных за первый семестр\n",
    "df.replace({'dnw': 0, 'dnc': 0},inplace = True)\n",
    "#проделаем процедуру для данных за второй семестр\n",
    "df2.replace({'dnw': 0, 'dnc': 0}, inplace=True)"
   ]
  },
  {
   "cell_type": "code",
   "execution_count": 22,
   "id": "d1681915-741c-4593-8145-b3f3b62ce625",
   "metadata": {
    "colab": {
     "base_uri": "https://localhost:8080/"
    },
    "id": "d1681915-741c-4593-8145-b3f3b62ce625",
    "outputId": "bda2f283-7101-4218-ad5b-05f189cb6e13"
   },
   "outputs": [
    {
     "name": "stdout",
     "output_type": "stream",
     "text": [
      "<class 'pandas.core.frame.DataFrame'>\n",
      "Index: 553 entries, 1 to 553\n",
      "Data columns (total 13 columns):\n",
      " #   Column          Non-Null Count  Dtype  \n",
      "---  ------          --------------  -----  \n",
      " 0   stud_id         553 non-null    object \n",
      " 1   level           553 non-null    object \n",
      " 2   group           553 non-null    int64  \n",
      " 3   practice_m1     552 non-null    float64\n",
      " 4   grammar_m1      552 non-null    float64\n",
      " 5   midterm         553 non-null    float64\n",
      " 6   practice_m2     552 non-null    float64\n",
      " 7   grammar_m2      552 non-null    float64\n",
      " 8   case_study      549 non-null    float64\n",
      " 9   final_test      552 non-null    float64\n",
      " 10  oral_exam       551 non-null    float64\n",
      " 11  pre_exam_total  553 non-null    float64\n",
      " 12  total           553 non-null    float64\n",
      "dtypes: float64(10), int64(1), object(2)\n",
      "memory usage: 60.5+ KB\n"
     ]
    }
   ],
   "source": [
    "#проверим результат, изучив типы данных в датафрейме после замены\n",
    "df.info()"
   ]
  },
  {
   "cell_type": "code",
   "execution_count": 23,
   "id": "286e37b1-fea6-4b0c-a480-50af9be4feec",
   "metadata": {
    "colab": {
     "base_uri": "https://localhost:8080/"
    },
    "id": "286e37b1-fea6-4b0c-a480-50af9be4feec",
    "outputId": "c49efd84-460e-4fdd-d35f-2a6f214f3835"
   },
   "outputs": [
    {
     "name": "stdout",
     "output_type": "stream",
     "text": [
      "<class 'pandas.core.frame.DataFrame'>\n",
      "Index: 529 entries, 1 to 529\n",
      "Data columns (total 13 columns):\n",
      " #   Column               Non-Null Count  Dtype  \n",
      "---  ------               --------------  -----  \n",
      " 0   stud_id              529 non-null    object \n",
      " 1   level                529 non-null    object \n",
      " 2   group                529 non-null    int64  \n",
      " 3   practice_m3          527 non-null    float64\n",
      " 4   grammar_m3           527 non-null    float64\n",
      " 5   midterm_m3           527 non-null    float64\n",
      " 6   practice_m4          528 non-null    float64\n",
      " 7   grammar_m4           527 non-null    float64\n",
      " 8   case_study_2nd_term  529 non-null    float64\n",
      " 9   final_test_2nd_term  528 non-null    float64\n",
      " 10  oral_exam_2nd_term   525 non-null    float64\n",
      " 11  pre_exam_total_m4    529 non-null    float64\n",
      " 12  total_2nd_term       528 non-null    float64\n",
      "dtypes: float64(10), int64(1), object(2)\n",
      "memory usage: 57.9+ KB\n"
     ]
    }
   ],
   "source": [
    "#аналогично для второго семестра\n",
    "df2.info()"
   ]
  },
  {
   "cell_type": "markdown",
   "id": "f4467bc9-9cce-49c5-8256-49b816200d78",
   "metadata": {
    "id": "f4467bc9-9cce-49c5-8256-49b816200d78"
   },
   "source": [
    "**Замена прошла успешно, теперь у нас лишь одна колонка со строковыми значениями, но это только из-за пропусков. * Столбцы с уровнем группы и uuid студентов остаются строковыми и не подлежат трансформациям.** Заполним пропуски нулями, как и намеревались выше и перейдем к статистическому анализу."
   ]
  },
  {
   "cell_type": "code",
   "execution_count": 24,
   "id": "86b1776c-f621-4024-b099-fe8fd0c758b8",
   "metadata": {
    "id": "86b1776c-f621-4024-b099-fe8fd0c758b8"
   },
   "outputs": [],
   "source": [
    "#заполнение пропусков в обоих датасетов\n",
    "df = df.fillna(0)\n",
    "df2 = df2.fillna(0)"
   ]
  },
  {
   "cell_type": "code",
   "execution_count": 25,
   "id": "470dc64d-b8f8-41ae-88a8-b39e7de15973",
   "metadata": {
    "colab": {
     "base_uri": "https://localhost:8080/"
    },
    "id": "470dc64d-b8f8-41ae-88a8-b39e7de15973",
    "outputId": "5f2aac71-12ca-4a23-b87a-ba36efaf29e8"
   },
   "outputs": [
    {
     "data": {
      "text/plain": [
       "stud_id           0.0\n",
       "level             0.0\n",
       "group             0.0\n",
       "practice_m1       0.0\n",
       "grammar_m1        0.0\n",
       "midterm           0.0\n",
       "practice_m2       0.0\n",
       "grammar_m2        0.0\n",
       "case_study        0.0\n",
       "final_test        0.0\n",
       "oral_exam         0.0\n",
       "pre_exam_total    0.0\n",
       "total             0.0\n",
       "dtype: float64"
      ]
     },
     "execution_count": 25,
     "metadata": {},
     "output_type": "execute_result"
    }
   ],
   "source": [
    "#смотрим пропуски\n",
    "df.isna().mean()"
   ]
  },
  {
   "cell_type": "code",
   "execution_count": 26,
   "id": "4aa947b2-aa68-4773-9299-62d3e10760f6",
   "metadata": {
    "colab": {
     "base_uri": "https://localhost:8080/"
    },
    "id": "4aa947b2-aa68-4773-9299-62d3e10760f6",
    "outputId": "e28863ca-4d0c-4a2c-d470-4c53f4af4736"
   },
   "outputs": [
    {
     "name": "stdout",
     "output_type": "stream",
     "text": [
      "<class 'pandas.core.frame.DataFrame'>\n",
      "Index: 553 entries, 1 to 553\n",
      "Data columns (total 13 columns):\n",
      " #   Column          Non-Null Count  Dtype  \n",
      "---  ------          --------------  -----  \n",
      " 0   stud_id         553 non-null    object \n",
      " 1   level           553 non-null    object \n",
      " 2   group           553 non-null    int64  \n",
      " 3   practice_m1     553 non-null    float64\n",
      " 4   grammar_m1      553 non-null    float64\n",
      " 5   midterm         553 non-null    float64\n",
      " 6   practice_m2     553 non-null    float64\n",
      " 7   grammar_m2      553 non-null    float64\n",
      " 8   case_study      553 non-null    float64\n",
      " 9   final_test      553 non-null    float64\n",
      " 10  oral_exam       553 non-null    float64\n",
      " 11  pre_exam_total  553 non-null    float64\n",
      " 12  total           553 non-null    float64\n",
      "dtypes: float64(10), int64(1), object(2)\n",
      "memory usage: 60.5+ KB\n"
     ]
    }
   ],
   "source": [
    "#проверяем изменение типов данных\n",
    "df.info()"
   ]
  },
  {
   "cell_type": "code",
   "execution_count": 27,
   "id": "6f0d73d9-9650-48c5-bba7-5d4d0228e303",
   "metadata": {
    "colab": {
     "base_uri": "https://localhost:8080/"
    },
    "id": "6f0d73d9-9650-48c5-bba7-5d4d0228e303",
    "outputId": "d82ac62c-3bf3-4358-a782-0a045281b49b"
   },
   "outputs": [
    {
     "data": {
      "text/plain": [
       "stud_id                0.0\n",
       "level                  0.0\n",
       "group                  0.0\n",
       "practice_m3            0.0\n",
       "grammar_m3             0.0\n",
       "midterm_m3             0.0\n",
       "practice_m4            0.0\n",
       "grammar_m4             0.0\n",
       "case_study_2nd_term    0.0\n",
       "final_test_2nd_term    0.0\n",
       "oral_exam_2nd_term     0.0\n",
       "pre_exam_total_m4      0.0\n",
       "total_2nd_term         0.0\n",
       "dtype: float64"
      ]
     },
     "execution_count": 27,
     "metadata": {},
     "output_type": "execute_result"
    }
   ],
   "source": [
    "#смотрим пропуски за второй семестр\n",
    "df2.isna().mean()"
   ]
  },
  {
   "cell_type": "code",
   "execution_count": 28,
   "id": "8516dfba-6485-44e5-81b1-86de10532727",
   "metadata": {
    "colab": {
     "base_uri": "https://localhost:8080/"
    },
    "id": "8516dfba-6485-44e5-81b1-86de10532727",
    "outputId": "79d5c8fe-b43e-491b-a8ed-1c5f7a0dbb1a"
   },
   "outputs": [
    {
     "name": "stdout",
     "output_type": "stream",
     "text": [
      "<class 'pandas.core.frame.DataFrame'>\n",
      "Index: 529 entries, 1 to 529\n",
      "Data columns (total 13 columns):\n",
      " #   Column               Non-Null Count  Dtype  \n",
      "---  ------               --------------  -----  \n",
      " 0   stud_id              529 non-null    object \n",
      " 1   level                529 non-null    object \n",
      " 2   group                529 non-null    int64  \n",
      " 3   practice_m3          529 non-null    float64\n",
      " 4   grammar_m3           529 non-null    float64\n",
      " 5   midterm_m3           529 non-null    float64\n",
      " 6   practice_m4          529 non-null    float64\n",
      " 7   grammar_m4           529 non-null    float64\n",
      " 8   case_study_2nd_term  529 non-null    float64\n",
      " 9   final_test_2nd_term  529 non-null    float64\n",
      " 10  oral_exam_2nd_term   529 non-null    float64\n",
      " 11  pre_exam_total_m4    529 non-null    float64\n",
      " 12  total_2nd_term       529 non-null    float64\n",
      "dtypes: float64(10), int64(1), object(2)\n",
      "memory usage: 57.9+ KB\n"
     ]
    }
   ],
   "source": [
    "#проверяем изменение типов данных\n",
    "df2.info()"
   ]
  },
  {
   "cell_type": "markdown",
   "id": "32895bf9-227f-4891-8fde-f14828502eb3",
   "metadata": {
    "id": "32895bf9-227f-4891-8fde-f14828502eb3"
   },
   "source": [
    "Замены прошли успешно и теперь подавляющее большинство столбцов с оценками в типе данных float."
   ]
  },
  {
   "cell_type": "code",
   "execution_count": 29,
   "id": "0c8c474c-5987-4794-bd08-093523df5ff2",
   "metadata": {
    "colab": {
     "base_uri": "https://localhost:8080/",
     "height": 320
    },
    "id": "0c8c474c-5987-4794-bd08-093523df5ff2",
    "outputId": "3a5e93a0-55bd-4f2f-ed90-6cfcd82d14f2"
   },
   "outputs": [
    {
     "data": {
      "text/html": [
       "<div>\n",
       "<style scoped>\n",
       "    .dataframe tbody tr th:only-of-type {\n",
       "        vertical-align: middle;\n",
       "    }\n",
       "\n",
       "    .dataframe tbody tr th {\n",
       "        vertical-align: top;\n",
       "    }\n",
       "\n",
       "    .dataframe thead th {\n",
       "        text-align: right;\n",
       "    }\n",
       "</style>\n",
       "<table border=\"1\" class=\"dataframe\">\n",
       "  <thead>\n",
       "    <tr style=\"text-align: right;\">\n",
       "      <th></th>\n",
       "      <th>group</th>\n",
       "      <th>practice_m1</th>\n",
       "      <th>grammar_m1</th>\n",
       "      <th>midterm</th>\n",
       "      <th>practice_m2</th>\n",
       "      <th>grammar_m2</th>\n",
       "      <th>case_study</th>\n",
       "      <th>final_test</th>\n",
       "      <th>oral_exam</th>\n",
       "      <th>pre_exam_total</th>\n",
       "      <th>total</th>\n",
       "    </tr>\n",
       "  </thead>\n",
       "  <tbody>\n",
       "    <tr>\n",
       "      <th>count</th>\n",
       "      <td>553.000000</td>\n",
       "      <td>553.000000</td>\n",
       "      <td>553.000000</td>\n",
       "      <td>553.000000</td>\n",
       "      <td>553.000000</td>\n",
       "      <td>553.000000</td>\n",
       "      <td>553.000000</td>\n",
       "      <td>553.000000</td>\n",
       "      <td>553.000000</td>\n",
       "      <td>553.000000</td>\n",
       "      <td>553.000000</td>\n",
       "    </tr>\n",
       "    <tr>\n",
       "      <th>mean</th>\n",
       "      <td>19.963834</td>\n",
       "      <td>11.944919</td>\n",
       "      <td>7.627667</td>\n",
       "      <td>6.634448</td>\n",
       "      <td>11.211212</td>\n",
       "      <td>7.138517</td>\n",
       "      <td>7.474322</td>\n",
       "      <td>6.835823</td>\n",
       "      <td>10.313924</td>\n",
       "      <td>58.866908</td>\n",
       "      <td>69.309855</td>\n",
       "    </tr>\n",
       "    <tr>\n",
       "      <th>std</th>\n",
       "      <td>11.178013</td>\n",
       "      <td>3.708500</td>\n",
       "      <td>2.886055</td>\n",
       "      <td>2.502668</td>\n",
       "      <td>4.080803</td>\n",
       "      <td>3.112291</td>\n",
       "      <td>2.937814</td>\n",
       "      <td>2.498578</td>\n",
       "      <td>8.179725</td>\n",
       "      <td>16.405745</td>\n",
       "      <td>20.516406</td>\n",
       "    </tr>\n",
       "    <tr>\n",
       "      <th>min</th>\n",
       "      <td>1.000000</td>\n",
       "      <td>0.000000</td>\n",
       "      <td>0.000000</td>\n",
       "      <td>0.000000</td>\n",
       "      <td>0.000000</td>\n",
       "      <td>0.000000</td>\n",
       "      <td>0.000000</td>\n",
       "      <td>0.000000</td>\n",
       "      <td>0.000000</td>\n",
       "      <td>0.000000</td>\n",
       "      <td>0.000000</td>\n",
       "    </tr>\n",
       "    <tr>\n",
       "      <th>25%</th>\n",
       "      <td>10.000000</td>\n",
       "      <td>11.000000</td>\n",
       "      <td>6.000000</td>\n",
       "      <td>5.900000</td>\n",
       "      <td>9.000000</td>\n",
       "      <td>5.000000</td>\n",
       "      <td>7.000000</td>\n",
       "      <td>6.100000</td>\n",
       "      <td>0.000000</td>\n",
       "      <td>50.200000</td>\n",
       "      <td>55.600000</td>\n",
       "    </tr>\n",
       "    <tr>\n",
       "      <th>50%</th>\n",
       "      <td>21.000000</td>\n",
       "      <td>13.220000</td>\n",
       "      <td>9.000000</td>\n",
       "      <td>7.300000</td>\n",
       "      <td>12.900000</td>\n",
       "      <td>8.000000</td>\n",
       "      <td>8.500000</td>\n",
       "      <td>7.500000</td>\n",
       "      <td>13.500000</td>\n",
       "      <td>62.100000</td>\n",
       "      <td>71.300000</td>\n",
       "    </tr>\n",
       "    <tr>\n",
       "      <th>75%</th>\n",
       "      <td>30.000000</td>\n",
       "      <td>15.000000</td>\n",
       "      <td>10.000000</td>\n",
       "      <td>8.400000</td>\n",
       "      <td>14.900000</td>\n",
       "      <td>10.000000</td>\n",
       "      <td>9.500000</td>\n",
       "      <td>8.600000</td>\n",
       "      <td>18.000000</td>\n",
       "      <td>71.950000</td>\n",
       "      <td>86.900000</td>\n",
       "    </tr>\n",
       "    <tr>\n",
       "      <th>max</th>\n",
       "      <td>38.000000</td>\n",
       "      <td>15.000000</td>\n",
       "      <td>10.000000</td>\n",
       "      <td>10.000000</td>\n",
       "      <td>15.000000</td>\n",
       "      <td>12.200000</td>\n",
       "      <td>10.000000</td>\n",
       "      <td>9.800000</td>\n",
       "      <td>20.000000</td>\n",
       "      <td>79.300000</td>\n",
       "      <td>99.300000</td>\n",
       "    </tr>\n",
       "  </tbody>\n",
       "</table>\n",
       "</div>"
      ],
      "text/plain": [
       "            group  practice_m1  grammar_m1     midterm  practice_m2  \\\n",
       "count  553.000000   553.000000  553.000000  553.000000   553.000000   \n",
       "mean    19.963834    11.944919    7.627667    6.634448    11.211212   \n",
       "std     11.178013     3.708500    2.886055    2.502668     4.080803   \n",
       "min      1.000000     0.000000    0.000000    0.000000     0.000000   \n",
       "25%     10.000000    11.000000    6.000000    5.900000     9.000000   \n",
       "50%     21.000000    13.220000    9.000000    7.300000    12.900000   \n",
       "75%     30.000000    15.000000   10.000000    8.400000    14.900000   \n",
       "max     38.000000    15.000000   10.000000   10.000000    15.000000   \n",
       "\n",
       "       grammar_m2  case_study  final_test   oral_exam  pre_exam_total  \\\n",
       "count  553.000000  553.000000  553.000000  553.000000      553.000000   \n",
       "mean     7.138517    7.474322    6.835823   10.313924       58.866908   \n",
       "std      3.112291    2.937814    2.498578    8.179725       16.405745   \n",
       "min      0.000000    0.000000    0.000000    0.000000        0.000000   \n",
       "25%      5.000000    7.000000    6.100000    0.000000       50.200000   \n",
       "50%      8.000000    8.500000    7.500000   13.500000       62.100000   \n",
       "75%     10.000000    9.500000    8.600000   18.000000       71.950000   \n",
       "max     12.200000   10.000000    9.800000   20.000000       79.300000   \n",
       "\n",
       "            total  \n",
       "count  553.000000  \n",
       "mean    69.309855  \n",
       "std     20.516406  \n",
       "min      0.000000  \n",
       "25%     55.600000  \n",
       "50%     71.300000  \n",
       "75%     86.900000  \n",
       "max     99.300000  "
      ]
     },
     "execution_count": 29,
     "metadata": {},
     "output_type": "execute_result"
    }
   ],
   "source": [
    "#оценим основные статистические параметры набора данных\n",
    "df.describe(exclude=[object])"
   ]
  },
  {
   "cell_type": "code",
   "execution_count": 30,
   "id": "5eb9a623-cc2f-49a4-8097-f9ab4680e4ae",
   "metadata": {
    "colab": {
     "base_uri": "https://localhost:8080/",
     "height": 320
    },
    "id": "5eb9a623-cc2f-49a4-8097-f9ab4680e4ae",
    "outputId": "92898609-40b4-45af-eab9-a51a36647a19"
   },
   "outputs": [
    {
     "data": {
      "text/html": [
       "<div>\n",
       "<style scoped>\n",
       "    .dataframe tbody tr th:only-of-type {\n",
       "        vertical-align: middle;\n",
       "    }\n",
       "\n",
       "    .dataframe tbody tr th {\n",
       "        vertical-align: top;\n",
       "    }\n",
       "\n",
       "    .dataframe thead th {\n",
       "        text-align: right;\n",
       "    }\n",
       "</style>\n",
       "<table border=\"1\" class=\"dataframe\">\n",
       "  <thead>\n",
       "    <tr style=\"text-align: right;\">\n",
       "      <th></th>\n",
       "      <th>group</th>\n",
       "      <th>practice_m3</th>\n",
       "      <th>grammar_m3</th>\n",
       "      <th>midterm_m3</th>\n",
       "      <th>practice_m4</th>\n",
       "      <th>grammar_m4</th>\n",
       "      <th>case_study_2nd_term</th>\n",
       "      <th>final_test_2nd_term</th>\n",
       "      <th>oral_exam_2nd_term</th>\n",
       "      <th>pre_exam_total_m4</th>\n",
       "      <th>total_2nd_term</th>\n",
       "    </tr>\n",
       "  </thead>\n",
       "  <tbody>\n",
       "    <tr>\n",
       "      <th>count</th>\n",
       "      <td>529.000000</td>\n",
       "      <td>529.000000</td>\n",
       "      <td>529.000000</td>\n",
       "      <td>529.000000</td>\n",
       "      <td>529.000000</td>\n",
       "      <td>529.000000</td>\n",
       "      <td>529.000000</td>\n",
       "      <td>529.000000</td>\n",
       "      <td>529.000000</td>\n",
       "      <td>529.000000</td>\n",
       "      <td>529.000000</td>\n",
       "    </tr>\n",
       "    <tr>\n",
       "      <th>mean</th>\n",
       "      <td>20.495274</td>\n",
       "      <td>10.463327</td>\n",
       "      <td>7.073743</td>\n",
       "      <td>6.656654</td>\n",
       "      <td>9.850057</td>\n",
       "      <td>6.476578</td>\n",
       "      <td>7.380529</td>\n",
       "      <td>6.972117</td>\n",
       "      <td>10.344045</td>\n",
       "      <td>54.873006</td>\n",
       "      <td>65.301361</td>\n",
       "    </tr>\n",
       "    <tr>\n",
       "      <th>std</th>\n",
       "      <td>11.263396</td>\n",
       "      <td>4.988796</td>\n",
       "      <td>3.400487</td>\n",
       "      <td>2.352314</td>\n",
       "      <td>4.965971</td>\n",
       "      <td>3.560555</td>\n",
       "      <td>2.906963</td>\n",
       "      <td>2.633116</td>\n",
       "      <td>8.202469</td>\n",
       "      <td>20.310415</td>\n",
       "      <td>23.908589</td>\n",
       "    </tr>\n",
       "    <tr>\n",
       "      <th>min</th>\n",
       "      <td>1.000000</td>\n",
       "      <td>0.000000</td>\n",
       "      <td>0.000000</td>\n",
       "      <td>0.000000</td>\n",
       "      <td>0.000000</td>\n",
       "      <td>0.000000</td>\n",
       "      <td>0.000000</td>\n",
       "      <td>0.000000</td>\n",
       "      <td>0.000000</td>\n",
       "      <td>0.000000</td>\n",
       "      <td>0.000000</td>\n",
       "    </tr>\n",
       "    <tr>\n",
       "      <th>25%</th>\n",
       "      <td>11.000000</td>\n",
       "      <td>7.000000</td>\n",
       "      <td>4.800000</td>\n",
       "      <td>6.000000</td>\n",
       "      <td>6.000000</td>\n",
       "      <td>3.900000</td>\n",
       "      <td>6.500000</td>\n",
       "      <td>6.000000</td>\n",
       "      <td>0.000000</td>\n",
       "      <td>42.900000</td>\n",
       "      <td>49.800000</td>\n",
       "    </tr>\n",
       "    <tr>\n",
       "      <th>50%</th>\n",
       "      <td>21.000000</td>\n",
       "      <td>12.500000</td>\n",
       "      <td>8.500000</td>\n",
       "      <td>7.300000</td>\n",
       "      <td>11.000000</td>\n",
       "      <td>7.500000</td>\n",
       "      <td>8.500000</td>\n",
       "      <td>7.800000</td>\n",
       "      <td>14.000000</td>\n",
       "      <td>58.600000</td>\n",
       "      <td>68.400000</td>\n",
       "    </tr>\n",
       "    <tr>\n",
       "      <th>75%</th>\n",
       "      <td>31.000000</td>\n",
       "      <td>15.000000</td>\n",
       "      <td>10.000000</td>\n",
       "      <td>8.200000</td>\n",
       "      <td>14.500000</td>\n",
       "      <td>10.000000</td>\n",
       "      <td>9.500000</td>\n",
       "      <td>8.700000</td>\n",
       "      <td>18.000000</td>\n",
       "      <td>72.300000</td>\n",
       "      <td>86.450000</td>\n",
       "    </tr>\n",
       "    <tr>\n",
       "      <th>max</th>\n",
       "      <td>38.000000</td>\n",
       "      <td>15.000000</td>\n",
       "      <td>12.840000</td>\n",
       "      <td>9.900000</td>\n",
       "      <td>16.000000</td>\n",
       "      <td>11.000000</td>\n",
       "      <td>10.000000</td>\n",
       "      <td>10.000000</td>\n",
       "      <td>20.000000</td>\n",
       "      <td>79.400000</td>\n",
       "      <td>99.400000</td>\n",
       "    </tr>\n",
       "  </tbody>\n",
       "</table>\n",
       "</div>"
      ],
      "text/plain": [
       "            group  practice_m3  grammar_m3  midterm_m3  practice_m4  \\\n",
       "count  529.000000   529.000000  529.000000  529.000000   529.000000   \n",
       "mean    20.495274    10.463327    7.073743    6.656654     9.850057   \n",
       "std     11.263396     4.988796    3.400487    2.352314     4.965971   \n",
       "min      1.000000     0.000000    0.000000    0.000000     0.000000   \n",
       "25%     11.000000     7.000000    4.800000    6.000000     6.000000   \n",
       "50%     21.000000    12.500000    8.500000    7.300000    11.000000   \n",
       "75%     31.000000    15.000000   10.000000    8.200000    14.500000   \n",
       "max     38.000000    15.000000   12.840000    9.900000    16.000000   \n",
       "\n",
       "       grammar_m4  case_study_2nd_term  final_test_2nd_term  \\\n",
       "count  529.000000           529.000000           529.000000   \n",
       "mean     6.476578             7.380529             6.972117   \n",
       "std      3.560555             2.906963             2.633116   \n",
       "min      0.000000             0.000000             0.000000   \n",
       "25%      3.900000             6.500000             6.000000   \n",
       "50%      7.500000             8.500000             7.800000   \n",
       "75%     10.000000             9.500000             8.700000   \n",
       "max     11.000000            10.000000            10.000000   \n",
       "\n",
       "       oral_exam_2nd_term  pre_exam_total_m4  total_2nd_term  \n",
       "count          529.000000         529.000000      529.000000  \n",
       "mean            10.344045          54.873006       65.301361  \n",
       "std              8.202469          20.310415       23.908589  \n",
       "min              0.000000           0.000000        0.000000  \n",
       "25%              0.000000          42.900000       49.800000  \n",
       "50%             14.000000          58.600000       68.400000  \n",
       "75%             18.000000          72.300000       86.450000  \n",
       "max             20.000000          79.400000       99.400000  "
      ]
     },
     "execution_count": 30,
     "metadata": {},
     "output_type": "execute_result"
    }
   ],
   "source": [
    "#оценим основные статистические параметры второго набора данных\n",
    "df2.describe(exclude=[object])"
   ]
  },
  {
   "cell_type": "markdown",
   "id": "4bb11659-89ba-4f0d-969e-498a069e4ee6",
   "metadata": {
    "id": "4bb11659-89ba-4f0d-969e-498a069e4ee6"
   },
   "source": [
    "### Наблюдения на основе основных стат.параметров:\n",
    "* В целом никаких сюрпризов среди квантилей, средних и стандартному отклонению в наборах данных за два семестра нет.\n",
    "* Из того, что бросается в глаза - существенная разница среднего и стандартного отклонения результатов за весь семестр(оба семестра) и баллов за весь семестр за вычетом экзамена(тоже оба семестра), что указывает на большую дисперсию баллов, если у нас баллы за семестр отличаются друг от друга на 1/5 от максимума(100 баллов).\n",
    "* Также интересно отметить, что граница первого квартиля для итоговых баллов за 1й и 2й семестр проходит немногим выше минимального балла для сдачи экзамена/зачета с оценкой - 46 баллов, но если в первом семестре до четверти студентов сдали \"с запасом\"(в среднем на 55,6 блв), то во втором семестре граница квартиля для четверти студентов составил 49,8, что показывает разницу в 5,5+ баллов и опасную близость к минимального балла для зачета. Разумеется, мы не можем утверждать, что четверть студентов сдали с таким баллом, границы границы квантилей лишь демонстрируют, что четверть оценок лежит на шкале от 0 до 55,6 и 49,8 баллов соответственно, но об опеределенных тенденциях сдвиг этой отсечки говорит.\n",
    "* Также бросается в глаза нисходящий тренд баллов за практические занятия с 1 по 4 модуль(practice_m1-4), которые в среднем достигали 11,94/15 для первого семестра, составили 11,21/15 за вторую часть того же семестра, а уже во второй половине учебного года упали до 10,46 и 9,85 на конец года соответственно.\n",
    "* Аналогично предыдущему пункту, подобную тенденцию на снижение среднего балла за аспект грамматики (grammar_m1-4) с 1 по 4й модуль: в первом модуле - 7,62/10, в последнем - 6,47, средний балл по аспекту также снижается каждый модуль"
   ]
  },
  {
   "cell_type": "markdown",
   "id": "4d385dd1-a746-4769-a5ba-d3c419cd1db0",
   "metadata": {
    "id": "4d385dd1-a746-4769-a5ba-d3c419cd1db0"
   },
   "source": [
    "## Выявление закономерностей и сравнение успеваемости во времени и по уровням"
   ]
  },
  {
   "cell_type": "markdown",
   "id": "3eb6f7d6-345f-4d32-99ab-e5a873fd41b4",
   "metadata": {
    "id": "3eb6f7d6-345f-4d32-99ab-e5a873fd41b4"
   },
   "source": [
    "Ниже мы сравним данные за два семестра, в целом и для отдельных групп. А поскольку у нас доступна вся генеральная совокупность, то мы можем найти ответы без статистических тестов. Сперва мы оценим успеваемость по группам владения языков."
   ]
  },
  {
   "cell_type": "markdown",
   "id": "f979ee73-dac0-413e-a0ba-935b704b8c89",
   "metadata": {
    "id": "f979ee73-dac0-413e-a0ba-935b704b8c89"
   },
   "source": [
    "### Какой уровень владения показал лучшую успеваемость? Есть ли тенденция на рост/снижение среднего балла?"
   ]
  },
  {
   "cell_type": "code",
   "execution_count": 31,
   "id": "ff0eef39-1ef8-4af6-bea0-e412b737154d",
   "metadata": {
    "colab": {
     "base_uri": "https://localhost:8080/"
    },
    "id": "ff0eef39-1ef8-4af6-bea0-e412b737154d",
    "outputId": "6168c1ab-8fc3-4688-a71a-4b2f5fedd3e4"
   },
   "outputs": [
    {
     "data": {
      "text/plain": [
       "level\n",
       "upper        193\n",
       "advanced     128\n",
       "inter        119\n",
       "pre_inter     80\n",
       "elem          33\n",
       "Name: count, dtype: int64"
      ]
     },
     "execution_count": 31,
     "metadata": {},
     "output_type": "execute_result"
    }
   ],
   "source": [
    "#оценка общего распределения по группам владения языком\n",
    "df.level.value_counts()"
   ]
  },
  {
   "cell_type": "code",
   "execution_count": 32,
   "id": "6ddac712-7cc0-4f8d-a3de-bd9fa363cb85",
   "metadata": {
    "colab": {
     "base_uri": "https://localhost:8080/",
     "height": 388
    },
    "id": "6ddac712-7cc0-4f8d-a3de-bd9fa363cb85",
    "outputId": "adc1d42a-363c-4a95-9fab-7ff5c29e2b5b"
   },
   "outputs": [
    {
     "data": {
      "image/png": "[encoded data removed]",
      "text/plain": [
       "<Figure size 400x400 with 1 Axes>"
      ]
     },
     "metadata": {},
     "output_type": "display_data"
    }
   ],
   "source": [
    "#визуализируем распределение\n",
    "df.level.value_counts().plot(kind='pie', figsize=(4,4), legend=False,\n",
    "                             autopct='%0.1f%%',\n",
    "                             title='Распределение студентов по уровню владения языком, 1 сем.\\n');\n",
    "plt.ylabel(None);"
   ]
  },
  {
   "cell_type": "markdown",
   "id": "a28bb35a-8bd9-4298-af9d-5b1618505b11",
   "metadata": {
    "id": "a28bb35a-8bd9-4298-af9d-5b1618505b11"
   },
   "source": [
    "Больше всего в первом семестре было студентов с уровнем \"выше среднего\"(Upper Intermediate) - 193 студ., 128 продвинутых студентов (Advanced) и 119 студентов среднего уровня(Pre-Intermediate). Студентов \"ниже среднего\" - 80 человек и всего 33 студента начинающего уровня."
   ]
  },
  {
   "cell_type": "code",
   "execution_count": 33,
   "id": "f1391037-ec30-48a9-843b-33f61a474cdd",
   "metadata": {
    "colab": {
     "base_uri": "https://localhost:8080/"
    },
    "id": "f1391037-ec30-48a9-843b-33f61a474cdd",
    "outputId": "3a7ccaf9-3032-43e3-f80d-36edbb3fb199"
   },
   "outputs": [
    {
     "data": {
      "text/plain": [
       "level\n",
       "upper        167\n",
       "advanced     131\n",
       "inter        113\n",
       "pre_inter     86\n",
       "elem          32\n",
       "Name: count, dtype: int64"
      ]
     },
     "execution_count": 33,
     "metadata": {},
     "output_type": "execute_result"
    }
   ],
   "source": [
    "#оценка общего распределения по группам владения языком\n",
    "df2.level.value_counts()"
   ]
  },
  {
   "cell_type": "code",
   "execution_count": 34,
   "id": "bc578f33-3b24-4ed3-a6a0-58bcf8877755",
   "metadata": {
    "colab": {
     "base_uri": "https://localhost:8080/",
     "height": 388
    },
    "id": "bc578f33-3b24-4ed3-a6a0-58bcf8877755",
    "outputId": "0f3da60e-1173-4303-c8b3-b42c0ff048f5"
   },
   "outputs": [
    {
     "data": {
      "image/png": "[encoded data removed]",
      "text/plain": [
       "<Figure size 400x400 with 1 Axes>"
      ]
     },
     "metadata": {},
     "output_type": "display_data"
    }
   ],
   "source": [
    "#визуализируем распределение за второй семестр\n",
    "df2.level.value_counts().plot(kind='pie', figsize=(4,4), legend=False,\n",
    "                             autopct='%0.1f%%',\n",
    "                             shadow=False, startangle=0,\n",
    "                             title='Распределение студентов по уровню владения языком, 2 сем.\\n');\n",
    "plt.ylabel(None);"
   ]
  },
  {
   "cell_type": "markdown",
   "id": "77694f9b-2cc5-47ce-92ff-bcb78f1eb368",
   "metadata": {
    "id": "77694f9b-2cc5-47ce-92ff-bcb78f1eb368"
   },
   "source": [
    "Любопытно, что группы Upper-Intermediate стали на 3% менее многочисленными, \"продвинутые\" группы потеряли 1,7% в численности, а группы \"ниже среднего\" (Pre-Intermediate) сократились на 1,8%. Elementary не изменился, а Intermediate потерял лишь 0,1% студентов.\n",
    "\n",
    "Теперь изучим их успеваемость."
   ]
  },
  {
   "cell_type": "code",
   "execution_count": 35,
   "id": "ee10970a-29cd-41c6-9896-d88903bd83bc",
   "metadata": {
    "colab": {
     "base_uri": "https://localhost:8080/",
     "height": 237
    },
    "id": "ee10970a-29cd-41c6-9896-d88903bd83bc",
    "outputId": "fd81791d-e8ff-4ce9-d446-7bb8cd6ff134"
   },
   "outputs": [
    {
     "data": {
      "text/html": [
       "<div>\n",
       "<style scoped>\n",
       "    .dataframe tbody tr th:only-of-type {\n",
       "        vertical-align: middle;\n",
       "    }\n",
       "\n",
       "    .dataframe tbody tr th {\n",
       "        vertical-align: top;\n",
       "    }\n",
       "\n",
       "    .dataframe thead th {\n",
       "        text-align: right;\n",
       "    }\n",
       "</style>\n",
       "<table border=\"1\" class=\"dataframe\">\n",
       "  <thead>\n",
       "    <tr style=\"text-align: right;\">\n",
       "      <th></th>\n",
       "      <th>pre_exam_total</th>\n",
       "      <th>total</th>\n",
       "    </tr>\n",
       "    <tr>\n",
       "      <th>level</th>\n",
       "      <th></th>\n",
       "      <th></th>\n",
       "    </tr>\n",
       "  </thead>\n",
       "  <tbody>\n",
       "    <tr>\n",
       "      <th>advanced</th>\n",
       "      <td>61.641016</td>\n",
       "      <td>75.378125</td>\n",
       "    </tr>\n",
       "    <tr>\n",
       "      <th>upper</th>\n",
       "      <td>60.837772</td>\n",
       "      <td>72.116528</td>\n",
       "    </tr>\n",
       "    <tr>\n",
       "      <th>inter</th>\n",
       "      <td>56.447143</td>\n",
       "      <td>66.165630</td>\n",
       "    </tr>\n",
       "    <tr>\n",
       "      <th>pre_inter</th>\n",
       "      <td>55.185625</td>\n",
       "      <td>61.458125</td>\n",
       "    </tr>\n",
       "    <tr>\n",
       "      <th>elem</th>\n",
       "      <td>54.230303</td>\n",
       "      <td>59.730303</td>\n",
       "    </tr>\n",
       "  </tbody>\n",
       "</table>\n",
       "</div>"
      ],
      "text/plain": [
       "           pre_exam_total      total\n",
       "level                               \n",
       "advanced        61.641016  75.378125\n",
       "upper           60.837772  72.116528\n",
       "inter           56.447143  66.165630\n",
       "pre_inter       55.185625  61.458125\n",
       "elem            54.230303  59.730303"
      ]
     },
     "execution_count": 35,
     "metadata": {},
     "output_type": "execute_result"
    }
   ],
   "source": [
    "#создадим сводную таблицу\n",
    "first_term_pivot = df.pivot_table(index='level', values=['pre_exam_total', 'total'], aggfunc='mean')\n",
    "\n",
    "#оценим таблицу\n",
    "first_term_pivot.sort_values(by='total', ascending=False)"
   ]
  },
  {
   "cell_type": "code",
   "execution_count": 36,
   "id": "9d761120-7503-4a24-838d-6a32aa67c2e8",
   "metadata": {
    "colab": {
     "base_uri": "https://localhost:8080/",
     "height": 473
    },
    "id": "9d761120-7503-4a24-838d-6a32aa67c2e8",
    "outputId": "42da18c4-0ea4-40f3-bbc5-874159f5069a"
   },
   "outputs": [
    {
     "data": {
      "image/png": "[encoded data removed]",
      "text/plain": [
       "<Figure size 640x480 with 1 Axes>"
      ]
     },
     "metadata": {},
     "output_type": "display_data"
    }
   ],
   "source": [
    "#визуализируем сводные данные\n",
    "first_term_pivot.sort_values(by='total', ascending=True).plot(\n",
    "    kind='barh', legend=True, grid=True,\n",
    "                title='Cредний балл по уровням владения, 1 сем.\\n');\n",
    "plt.ylabel(None);"
   ]
  },
  {
   "cell_type": "markdown",
   "id": "63f5cf1b-f8b3-4620-a2db-829dff0fc857",
   "metadata": {
    "id": "63f5cf1b-f8b3-4620-a2db-829dff0fc857"
   },
   "source": [
    "Теперь проделаем то же для второго семестра"
   ]
  },
  {
   "cell_type": "code",
   "execution_count": 37,
   "id": "e832d6bc-cd47-4ce5-9dc2-bb172a5ad149",
   "metadata": {
    "colab": {
     "base_uri": "https://localhost:8080/",
     "height": 237
    },
    "id": "e832d6bc-cd47-4ce5-9dc2-bb172a5ad149",
    "outputId": "9eba99d4-ad82-4483-caf5-baf94f3e9965"
   },
   "outputs": [
    {
     "data": {
      "text/html": [
       "<div>\n",
       "<style scoped>\n",
       "    .dataframe tbody tr th:only-of-type {\n",
       "        vertical-align: middle;\n",
       "    }\n",
       "\n",
       "    .dataframe tbody tr th {\n",
       "        vertical-align: top;\n",
       "    }\n",
       "\n",
       "    .dataframe thead th {\n",
       "        text-align: right;\n",
       "    }\n",
       "</style>\n",
       "<table border=\"1\" class=\"dataframe\">\n",
       "  <thead>\n",
       "    <tr style=\"text-align: right;\">\n",
       "      <th></th>\n",
       "      <th>pre_exam_total_m4</th>\n",
       "      <th>total_2nd_term</th>\n",
       "    </tr>\n",
       "    <tr>\n",
       "      <th>level</th>\n",
       "      <th></th>\n",
       "      <th></th>\n",
       "    </tr>\n",
       "  </thead>\n",
       "  <tbody>\n",
       "    <tr>\n",
       "      <th>advanced</th>\n",
       "      <td>59.078092</td>\n",
       "      <td>72.521603</td>\n",
       "    </tr>\n",
       "    <tr>\n",
       "      <th>upper</th>\n",
       "      <td>57.670898</td>\n",
       "      <td>69.964311</td>\n",
       "    </tr>\n",
       "    <tr>\n",
       "      <th>inter</th>\n",
       "      <td>51.223540</td>\n",
       "      <td>59.993451</td>\n",
       "    </tr>\n",
       "    <tr>\n",
       "      <th>pre_inter</th>\n",
       "      <td>51.315000</td>\n",
       "      <td>56.599884</td>\n",
       "    </tr>\n",
       "    <tr>\n",
       "      <th>elem</th>\n",
       "      <td>45.506250</td>\n",
       "      <td>53.537500</td>\n",
       "    </tr>\n",
       "  </tbody>\n",
       "</table>\n",
       "</div>"
      ],
      "text/plain": [
       "           pre_exam_total_m4  total_2nd_term\n",
       "level                                       \n",
       "advanced           59.078092       72.521603\n",
       "upper              57.670898       69.964311\n",
       "inter              51.223540       59.993451\n",
       "pre_inter          51.315000       56.599884\n",
       "elem               45.506250       53.537500"
      ]
     },
     "execution_count": 37,
     "metadata": {},
     "output_type": "execute_result"
    }
   ],
   "source": [
    "#создадим сводную таблицу\n",
    "second_term_pivot = df2.pivot_table(index='level', values=['pre_exam_total_m4', 'total_2nd_term'], aggfunc='mean')\n",
    "\n",
    "#оценим таблицу\n",
    "second_term_pivot.sort_values(by='total_2nd_term', ascending=False)"
   ]
  },
  {
   "cell_type": "code",
   "execution_count": 38,
   "id": "673d7eb0-afdb-4ffa-adea-9c1b5948b918",
   "metadata": {
    "colab": {
     "base_uri": "https://localhost:8080/",
     "height": 473
    },
    "id": "673d7eb0-afdb-4ffa-adea-9c1b5948b918",
    "outputId": "19c3b377-0bce-4a6a-9457-1e04d7ce2661"
   },
   "outputs": [
    {
     "data": {
      "image/png": "[encoded data removed]",
      "text/plain": [
       "<Figure size 640x480 with 1 Axes>"
      ]
     },
     "metadata": {},
     "output_type": "display_data"
    }
   ],
   "source": [
    "#визуализируем сводные данные\n",
    "second_term_pivot.sort_values(by='total_2nd_term', ascending=True).plot(\n",
    "    kind='barh', legend=True, grid=True,\n",
    "                title='Cредний балл по уровням владения, 2 сем.\\n');\n",
    "plt.ylabel(None);"
   ]
  },
  {
   "cell_type": "code",
   "execution_count": 39,
   "id": "d052bbb8-3f90-46cc-b7d6-191939fd3c23",
   "metadata": {
    "colab": {
     "base_uri": "https://localhost:8080/",
     "height": 237
    },
    "id": "d052bbb8-3f90-46cc-b7d6-191939fd3c23",
    "outputId": "d1b302c1-616b-46ec-f375-3ca750d847db"
   },
   "outputs": [
    {
     "data": {
      "text/html": [
       "<div>\n",
       "<style scoped>\n",
       "    .dataframe tbody tr th:only-of-type {\n",
       "        vertical-align: middle;\n",
       "    }\n",
       "\n",
       "    .dataframe tbody tr th {\n",
       "        vertical-align: top;\n",
       "    }\n",
       "\n",
       "    .dataframe thead th {\n",
       "        text-align: right;\n",
       "    }\n",
       "</style>\n",
       "<table border=\"1\" class=\"dataframe\">\n",
       "  <thead>\n",
       "    <tr style=\"text-align: right;\">\n",
       "      <th></th>\n",
       "      <th>pre_exam_total</th>\n",
       "      <th>total</th>\n",
       "      <th>pre_exam_total_m4</th>\n",
       "      <th>total_2nd_term</th>\n",
       "    </tr>\n",
       "    <tr>\n",
       "      <th>level</th>\n",
       "      <th></th>\n",
       "      <th></th>\n",
       "      <th></th>\n",
       "      <th></th>\n",
       "    </tr>\n",
       "  </thead>\n",
       "  <tbody>\n",
       "    <tr>\n",
       "      <th>advanced</th>\n",
       "      <td>61.641016</td>\n",
       "      <td>75.378125</td>\n",
       "      <td>59.078092</td>\n",
       "      <td>72.521603</td>\n",
       "    </tr>\n",
       "    <tr>\n",
       "      <th>upper</th>\n",
       "      <td>60.837772</td>\n",
       "      <td>72.116528</td>\n",
       "      <td>57.670898</td>\n",
       "      <td>69.964311</td>\n",
       "    </tr>\n",
       "    <tr>\n",
       "      <th>inter</th>\n",
       "      <td>56.447143</td>\n",
       "      <td>66.165630</td>\n",
       "      <td>51.223540</td>\n",
       "      <td>59.993451</td>\n",
       "    </tr>\n",
       "    <tr>\n",
       "      <th>pre_inter</th>\n",
       "      <td>55.185625</td>\n",
       "      <td>61.458125</td>\n",
       "      <td>51.315000</td>\n",
       "      <td>56.599884</td>\n",
       "    </tr>\n",
       "    <tr>\n",
       "      <th>elem</th>\n",
       "      <td>54.230303</td>\n",
       "      <td>59.730303</td>\n",
       "      <td>45.506250</td>\n",
       "      <td>53.537500</td>\n",
       "    </tr>\n",
       "  </tbody>\n",
       "</table>\n",
       "</div>"
      ],
      "text/plain": [
       "           pre_exam_total      total  pre_exam_total_m4  total_2nd_term\n",
       "level                                                                  \n",
       "advanced        61.641016  75.378125          59.078092       72.521603\n",
       "upper           60.837772  72.116528          57.670898       69.964311\n",
       "inter           56.447143  66.165630          51.223540       59.993451\n",
       "pre_inter       55.185625  61.458125          51.315000       56.599884\n",
       "elem            54.230303  59.730303          45.506250       53.537500"
      ]
     },
     "execution_count": 39,
     "metadata": {},
     "output_type": "execute_result"
    }
   ],
   "source": [
    "#объединим две таблицы общей успеваемости за два семестра\n",
    "performance = first_term_pivot.merge(second_term_pivot, on='level', how='inner')\n",
    "#проверим объединение и отсортируем значения\n",
    "performance.sort_values(by='total', ascending=False)"
   ]
  },
  {
   "cell_type": "code",
   "execution_count": 40,
   "id": "3b22c02b-de74-47ae-b50c-be177cfdc542",
   "metadata": {
    "colab": {
     "base_uri": "https://localhost:8080/",
     "height": 237
    },
    "id": "3b22c02b-de74-47ae-b50c-be177cfdc542",
    "outputId": "acdcf57d-d181-43ff-a102-1f736cdf9c07"
   },
   "outputs": [
    {
     "data": {
      "text/html": [
       "<style type=\"text/css\">\n",
       "#T_c83fd_row0_col0, #T_c83fd_row0_col1, #T_c83fd_row0_col2, #T_c83fd_row0_col3 {\n",
       "  background-color: green;\n",
       "}\n",
       "#T_c83fd_row1_col0, #T_c83fd_row1_col1, #T_c83fd_row1_col2, #T_c83fd_row1_col3 {\n",
       "  background-color: red;\n",
       "}\n",
       "</style>\n",
       "<table id=\"T_c83fd\">\n",
       "  <thead>\n",
       "    <tr>\n",
       "      <th class=\"blank level0\" >&nbsp;</th>\n",
       "      <th id=\"T_c83fd_level0_col0\" class=\"col_heading level0 col0\" >pre_exam_total</th>\n",
       "      <th id=\"T_c83fd_level0_col1\" class=\"col_heading level0 col1\" >total</th>\n",
       "      <th id=\"T_c83fd_level0_col2\" class=\"col_heading level0 col2\" >pre_exam_total_m4</th>\n",
       "      <th id=\"T_c83fd_level0_col3\" class=\"col_heading level0 col3\" >total_2nd_term</th>\n",
       "    </tr>\n",
       "    <tr>\n",
       "      <th class=\"index_name level0\" >level</th>\n",
       "      <th class=\"blank col0\" >&nbsp;</th>\n",
       "      <th class=\"blank col1\" >&nbsp;</th>\n",
       "      <th class=\"blank col2\" >&nbsp;</th>\n",
       "      <th class=\"blank col3\" >&nbsp;</th>\n",
       "    </tr>\n",
       "  </thead>\n",
       "  <tbody>\n",
       "    <tr>\n",
       "      <th id=\"T_c83fd_level0_row0\" class=\"row_heading level0 row0\" >advanced</th>\n",
       "      <td id=\"T_c83fd_row0_col0\" class=\"data row0 col0\" >61.641016</td>\n",
       "      <td id=\"T_c83fd_row0_col1\" class=\"data row0 col1\" >75.378125</td>\n",
       "      <td id=\"T_c83fd_row0_col2\" class=\"data row0 col2\" >59.078092</td>\n",
       "      <td id=\"T_c83fd_row0_col3\" class=\"data row0 col3\" >72.521603</td>\n",
       "    </tr>\n",
       "    <tr>\n",
       "      <th id=\"T_c83fd_level0_row1\" class=\"row_heading level0 row1\" >elem</th>\n",
       "      <td id=\"T_c83fd_row1_col0\" class=\"data row1 col0\" >54.230303</td>\n",
       "      <td id=\"T_c83fd_row1_col1\" class=\"data row1 col1\" >59.730303</td>\n",
       "      <td id=\"T_c83fd_row1_col2\" class=\"data row1 col2\" >45.506250</td>\n",
       "      <td id=\"T_c83fd_row1_col3\" class=\"data row1 col3\" >53.537500</td>\n",
       "    </tr>\n",
       "    <tr>\n",
       "      <th id=\"T_c83fd_level0_row2\" class=\"row_heading level0 row2\" >inter</th>\n",
       "      <td id=\"T_c83fd_row2_col0\" class=\"data row2 col0\" >56.447143</td>\n",
       "      <td id=\"T_c83fd_row2_col1\" class=\"data row2 col1\" >66.165630</td>\n",
       "      <td id=\"T_c83fd_row2_col2\" class=\"data row2 col2\" >51.223540</td>\n",
       "      <td id=\"T_c83fd_row2_col3\" class=\"data row2 col3\" >59.993451</td>\n",
       "    </tr>\n",
       "    <tr>\n",
       "      <th id=\"T_c83fd_level0_row3\" class=\"row_heading level0 row3\" >pre_inter</th>\n",
       "      <td id=\"T_c83fd_row3_col0\" class=\"data row3 col0\" >55.185625</td>\n",
       "      <td id=\"T_c83fd_row3_col1\" class=\"data row3 col1\" >61.458125</td>\n",
       "      <td id=\"T_c83fd_row3_col2\" class=\"data row3 col2\" >51.315000</td>\n",
       "      <td id=\"T_c83fd_row3_col3\" class=\"data row3 col3\" >56.599884</td>\n",
       "    </tr>\n",
       "    <tr>\n",
       "      <th id=\"T_c83fd_level0_row4\" class=\"row_heading level0 row4\" >upper</th>\n",
       "      <td id=\"T_c83fd_row4_col0\" class=\"data row4 col0\" >60.837772</td>\n",
       "      <td id=\"T_c83fd_row4_col1\" class=\"data row4 col1\" >72.116528</td>\n",
       "      <td id=\"T_c83fd_row4_col2\" class=\"data row4 col2\" >57.670898</td>\n",
       "      <td id=\"T_c83fd_row4_col3\" class=\"data row4 col3\" >69.964311</td>\n",
       "    </tr>\n",
       "  </tbody>\n",
       "</table>\n"
      ],
      "text/plain": [
       "<pandas.io.formats.style.Styler at 0x23be6e1e2d0>"
      ]
     },
     "execution_count": 40,
     "metadata": {},
     "output_type": "execute_result"
    }
   ],
   "source": [
    "#подсветим максимальные|минимальные значения, чтобы облегчить сравнение\n",
    "performance.style.highlight_max(color='green').highlight_min(color='red')"
   ]
  },
  {
   "cell_type": "markdown",
   "id": "68d05045-8131-48d2-8a98-f4c675fdbcfb",
   "metadata": {
    "id": "68d05045-8131-48d2-8a98-f4c675fdbcfb"
   },
   "source": [
    "**Вполне ожидаемо, уровень успеваемости идеально совпадает с градацией уровней владения языком. Подведем промежуточный итог:**\n",
    "* Самым сильным уровнем стал продвинутый/Advanced, а самым слабым - начинающий/Elementary. Пока никаких сюрпризов.\n",
    "* У абсолютно всех уровней(!) наблюдается тенденция на снижение среднего балла за семестр с учетом экзамена и без. Без исключений.\n",
    "Необходимо провести опрос среди студентов в конце учебного года, чтобы выяснить причины снижения успеваемости на всех уровнях. Подобные мероприятия могут повысить удовлетворенность обучением, улучшить восприятие бренда университета и в целом, помочь с освоением материала."
   ]
  },
  {
   "cell_type": "markdown",
   "id": "cd5c5b28-97de-41eb-8cab-e11d18679477",
   "metadata": {
    "id": "cd5c5b28-97de-41eb-8cab-e11d18679477"
   },
   "source": [
    "### Какие тренды есть применительно к баллам за устный экзамен?"
   ]
  },
  {
   "cell_type": "markdown",
   "id": "9bb91674-27da-41a9-a7ee-d607f4a9517f",
   "metadata": {
    "id": "9bb91674-27da-41a9-a7ee-d607f4a9517f"
   },
   "source": [
    "Изучим разброс баллов за экзамен в первом и втором семестре, а для пущей глубины наблюдения мы увеличим гранулярность и раздробим студентов на группы по уровню владения языком."
   ]
  },
  {
   "cell_type": "code",
   "execution_count": 41,
   "id": "ca486f69-71c8-4081-aa8a-3ecd6a3a59fa",
   "metadata": {
    "colab": {
     "base_uri": "https://localhost:8080/",
     "height": 237
    },
    "id": "ca486f69-71c8-4081-aa8a-3ecd6a3a59fa",
    "outputId": "f55c3473-a1ab-43a2-8bac-5f4455ccb1a7"
   },
   "outputs": [
    {
     "data": {
      "text/html": [
       "<div>\n",
       "<style scoped>\n",
       "    .dataframe tbody tr th:only-of-type {\n",
       "        vertical-align: middle;\n",
       "    }\n",
       "\n",
       "    .dataframe tbody tr th {\n",
       "        vertical-align: top;\n",
       "    }\n",
       "\n",
       "    .dataframe thead th {\n",
       "        text-align: right;\n",
       "    }\n",
       "</style>\n",
       "<table border=\"1\" class=\"dataframe\">\n",
       "  <thead>\n",
       "    <tr style=\"text-align: right;\">\n",
       "      <th></th>\n",
       "      <th>oral_exam</th>\n",
       "    </tr>\n",
       "    <tr>\n",
       "      <th>level</th>\n",
       "      <th></th>\n",
       "    </tr>\n",
       "  </thead>\n",
       "  <tbody>\n",
       "    <tr>\n",
       "      <th>advanced</th>\n",
       "      <td>13.500000</td>\n",
       "    </tr>\n",
       "    <tr>\n",
       "      <th>upper</th>\n",
       "      <td>11.278756</td>\n",
       "    </tr>\n",
       "    <tr>\n",
       "      <th>inter</th>\n",
       "      <td>9.373950</td>\n",
       "    </tr>\n",
       "    <tr>\n",
       "      <th>pre_inter</th>\n",
       "      <td>6.272500</td>\n",
       "    </tr>\n",
       "    <tr>\n",
       "      <th>elem</th>\n",
       "      <td>5.500000</td>\n",
       "    </tr>\n",
       "  </tbody>\n",
       "</table>\n",
       "</div>"
      ],
      "text/plain": [
       "           oral_exam\n",
       "level               \n",
       "advanced   13.500000\n",
       "upper      11.278756\n",
       "inter       9.373950\n",
       "pre_inter   6.272500\n",
       "elem        5.500000"
      ]
     },
     "execution_count": 41,
     "metadata": {},
     "output_type": "execute_result"
    }
   ],
   "source": [
    "#создадим сводную таблицу для первого семестра\n",
    "first_term_oral = df.pivot_table(index='level', values='oral_exam', aggfunc='mean')\n",
    "\n",
    "#оценим таблицу\n",
    "first_term_oral.sort_values(by='oral_exam', ascending=False)"
   ]
  },
  {
   "cell_type": "code",
   "execution_count": 42,
   "id": "160781b3-435e-4dd2-8ca8-c15df4212512",
   "metadata": {
    "colab": {
     "base_uri": "https://localhost:8080/",
     "height": 237
    },
    "id": "160781b3-435e-4dd2-8ca8-c15df4212512",
    "outputId": "d2d0ca3f-b42a-493f-9eb7-ed9e80d64a89"
   },
   "outputs": [
    {
     "data": {
      "text/html": [
       "<div>\n",
       "<style scoped>\n",
       "    .dataframe tbody tr th:only-of-type {\n",
       "        vertical-align: middle;\n",
       "    }\n",
       "\n",
       "    .dataframe tbody tr th {\n",
       "        vertical-align: top;\n",
       "    }\n",
       "\n",
       "    .dataframe thead th {\n",
       "        text-align: right;\n",
       "    }\n",
       "</style>\n",
       "<table border=\"1\" class=\"dataframe\">\n",
       "  <thead>\n",
       "    <tr style=\"text-align: right;\">\n",
       "      <th></th>\n",
       "      <th>oral_exam</th>\n",
       "    </tr>\n",
       "    <tr>\n",
       "      <th>level</th>\n",
       "      <th></th>\n",
       "    </tr>\n",
       "  </thead>\n",
       "  <tbody>\n",
       "    <tr>\n",
       "      <th>advanced</th>\n",
       "      <td>13.500000</td>\n",
       "    </tr>\n",
       "    <tr>\n",
       "      <th>upper</th>\n",
       "      <td>11.278756</td>\n",
       "    </tr>\n",
       "    <tr>\n",
       "      <th>inter</th>\n",
       "      <td>9.373950</td>\n",
       "    </tr>\n",
       "    <tr>\n",
       "      <th>pre_inter</th>\n",
       "      <td>6.272500</td>\n",
       "    </tr>\n",
       "    <tr>\n",
       "      <th>elem</th>\n",
       "      <td>5.500000</td>\n",
       "    </tr>\n",
       "  </tbody>\n",
       "</table>\n",
       "</div>"
      ],
      "text/plain": [
       "           oral_exam\n",
       "level               \n",
       "advanced   13.500000\n",
       "upper      11.278756\n",
       "inter       9.373950\n",
       "pre_inter   6.272500\n",
       "elem        5.500000"
      ]
     },
     "execution_count": 42,
     "metadata": {},
     "output_type": "execute_result"
    }
   ],
   "source": [
    "#создадим сводную таблицу для первого семестра\n",
    "first_term_oral = df.pivot_table(index='level', values='oral_exam', aggfunc='mean')\n",
    "\n",
    "#оценим таблицу\n",
    "first_term_oral.sort_values(by='oral_exam', ascending=False)"
   ]
  },
  {
   "cell_type": "markdown",
   "id": "557a0787-c695-4be4-b163-173725ff2f5a",
   "metadata": {
    "id": "557a0787-c695-4be4-b163-173725ff2f5a"
   },
   "source": [
    "Средний балл строго соответствует уровню владения языком на основании данных за устный экзамен в первом семестре. Необходимо сравнение со вторым."
   ]
  },
  {
   "cell_type": "code",
   "execution_count": 43,
   "id": "92459089-9225-4544-87a1-2099d8cde460",
   "metadata": {
    "colab": {
     "base_uri": "https://localhost:8080/",
     "height": 237
    },
    "id": "92459089-9225-4544-87a1-2099d8cde460",
    "outputId": "5a0630b5-03f3-4f6c-cf3a-0653d9f909ce"
   },
   "outputs": [
    {
     "data": {
      "text/html": [
       "<div>\n",
       "<style scoped>\n",
       "    .dataframe tbody tr th:only-of-type {\n",
       "        vertical-align: middle;\n",
       "    }\n",
       "\n",
       "    .dataframe tbody tr th {\n",
       "        vertical-align: top;\n",
       "    }\n",
       "\n",
       "    .dataframe thead th {\n",
       "        text-align: right;\n",
       "    }\n",
       "</style>\n",
       "<table border=\"1\" class=\"dataframe\">\n",
       "  <thead>\n",
       "    <tr style=\"text-align: right;\">\n",
       "      <th></th>\n",
       "      <th>oral_exam_2nd_term</th>\n",
       "    </tr>\n",
       "    <tr>\n",
       "      <th>level</th>\n",
       "      <th></th>\n",
       "    </tr>\n",
       "  </thead>\n",
       "  <tbody>\n",
       "    <tr>\n",
       "      <th>advanced</th>\n",
       "      <td>12.977863</td>\n",
       "    </tr>\n",
       "    <tr>\n",
       "      <th>upper</th>\n",
       "      <td>12.391617</td>\n",
       "    </tr>\n",
       "    <tr>\n",
       "      <th>inter</th>\n",
       "      <td>8.769912</td>\n",
       "    </tr>\n",
       "    <tr>\n",
       "      <th>elem</th>\n",
       "      <td>8.031250</td>\n",
       "    </tr>\n",
       "    <tr>\n",
       "      <th>pre_inter</th>\n",
       "      <td>5.284884</td>\n",
       "    </tr>\n",
       "  </tbody>\n",
       "</table>\n",
       "</div>"
      ],
      "text/plain": [
       "           oral_exam_2nd_term\n",
       "level                        \n",
       "advanced            12.977863\n",
       "upper               12.391617\n",
       "inter                8.769912\n",
       "elem                 8.031250\n",
       "pre_inter            5.284884"
      ]
     },
     "execution_count": 43,
     "metadata": {},
     "output_type": "execute_result"
    }
   ],
   "source": [
    "#Повторим для второго семестра\n",
    "#создадим сводную таблицу для первого семестра\n",
    "second_term_oral = df2.pivot_table(index='level', values='oral_exam_2nd_term', aggfunc='mean')\n",
    "\n",
    "#оценим таблицу\n",
    "second_term_oral.sort_values(by='oral_exam_2nd_term', ascending=False)"
   ]
  },
  {
   "cell_type": "code",
   "execution_count": 44,
   "id": "d9216bd9-5633-4b96-83c2-88e95b32a6b1",
   "metadata": {
    "colab": {
     "base_uri": "https://localhost:8080/",
     "height": 237
    },
    "id": "d9216bd9-5633-4b96-83c2-88e95b32a6b1",
    "outputId": "8f59c781-5a79-40b6-a5aa-ad9f3a4dd34e"
   },
   "outputs": [
    {
     "data": {
      "text/html": [
       "<style type=\"text/css\">\n",
       "#T_fee8f_row0_col0, #T_fee8f_row0_col1 {\n",
       "  background-color: green;\n",
       "}\n",
       "#T_fee8f_row1_col0, #T_fee8f_row3_col1 {\n",
       "  background-color: red;\n",
       "}\n",
       "</style>\n",
       "<table id=\"T_fee8f\">\n",
       "  <thead>\n",
       "    <tr>\n",
       "      <th class=\"blank level0\" >&nbsp;</th>\n",
       "      <th id=\"T_fee8f_level0_col0\" class=\"col_heading level0 col0\" >oral_exam</th>\n",
       "      <th id=\"T_fee8f_level0_col1\" class=\"col_heading level0 col1\" >oral_exam_2nd_term</th>\n",
       "    </tr>\n",
       "    <tr>\n",
       "      <th class=\"index_name level0\" >level</th>\n",
       "      <th class=\"blank col0\" >&nbsp;</th>\n",
       "      <th class=\"blank col1\" >&nbsp;</th>\n",
       "    </tr>\n",
       "  </thead>\n",
       "  <tbody>\n",
       "    <tr>\n",
       "      <th id=\"T_fee8f_level0_row0\" class=\"row_heading level0 row0\" >advanced</th>\n",
       "      <td id=\"T_fee8f_row0_col0\" class=\"data row0 col0\" >13.500000</td>\n",
       "      <td id=\"T_fee8f_row0_col1\" class=\"data row0 col1\" >12.977863</td>\n",
       "    </tr>\n",
       "    <tr>\n",
       "      <th id=\"T_fee8f_level0_row1\" class=\"row_heading level0 row1\" >elem</th>\n",
       "      <td id=\"T_fee8f_row1_col0\" class=\"data row1 col0\" >5.500000</td>\n",
       "      <td id=\"T_fee8f_row1_col1\" class=\"data row1 col1\" >8.031250</td>\n",
       "    </tr>\n",
       "    <tr>\n",
       "      <th id=\"T_fee8f_level0_row2\" class=\"row_heading level0 row2\" >inter</th>\n",
       "      <td id=\"T_fee8f_row2_col0\" class=\"data row2 col0\" >9.373950</td>\n",
       "      <td id=\"T_fee8f_row2_col1\" class=\"data row2 col1\" >8.769912</td>\n",
       "    </tr>\n",
       "    <tr>\n",
       "      <th id=\"T_fee8f_level0_row3\" class=\"row_heading level0 row3\" >pre_inter</th>\n",
       "      <td id=\"T_fee8f_row3_col0\" class=\"data row3 col0\" >6.272500</td>\n",
       "      <td id=\"T_fee8f_row3_col1\" class=\"data row3 col1\" >5.284884</td>\n",
       "    </tr>\n",
       "    <tr>\n",
       "      <th id=\"T_fee8f_level0_row4\" class=\"row_heading level0 row4\" >upper</th>\n",
       "      <td id=\"T_fee8f_row4_col0\" class=\"data row4 col0\" >11.278756</td>\n",
       "      <td id=\"T_fee8f_row4_col1\" class=\"data row4 col1\" >12.391617</td>\n",
       "    </tr>\n",
       "  </tbody>\n",
       "</table>\n"
      ],
      "text/plain": [
       "<pandas.io.formats.style.Styler at 0x23be7243ad0>"
      ]
     },
     "execution_count": 44,
     "metadata": {},
     "output_type": "execute_result"
    }
   ],
   "source": [
    "#объединим две таблицы ответов на экзамене за два семестра\n",
    "performance_exam = first_term_oral.merge(second_term_oral, on='level', how='inner')\n",
    "#проверим объединение и подчеркнем экстремумы в таблице\n",
    "performance_exam.style.highlight_max(color='green').highlight_min(color='red')"
   ]
  },
  {
   "cell_type": "code",
   "execution_count": 45,
   "id": "a00a674a-3891-43de-be3b-1209b4d4be53",
   "metadata": {
    "colab": {
     "base_uri": "https://localhost:8080/",
     "height": 527
    },
    "id": "a00a674a-3891-43de-be3b-1209b4d4be53",
    "outputId": "5818435a-f32a-4f0c-de88-c995a91bb1f0"
   },
   "outputs": [
    {
     "data": {
      "image/png": "[encoded data removed]",
      "text/plain": [
       "<Figure size 640x480 with 1 Axes>"
      ]
     },
     "metadata": {},
     "output_type": "display_data"
    }
   ],
   "source": [
    "performance_exam.sort_values(by='oral_exam', ascending=False).plot(\n",
    "    kind='bar', legend=True, grid=True,\n",
    "                title='Cредний балл за экзамен по уровням владения, 1-2 сем.\\n');\n",
    "plt.xlabel(None);"
   ]
  },
  {
   "cell_type": "markdown",
   "id": "4c9dda13-62ef-4875-8833-ccd09cf02713",
   "metadata": {
    "id": "4c9dda13-62ef-4875-8833-ccd09cf02713"
   },
   "source": [
    "Тенденция за второй семестр несколько изменилась:\n",
    "* отрыв студентов с уровнем \"выше среднего\"/Upper Intermediate стал едва различим, ранее он составлял в среднем 2,23 балла по сравнению с \"продвинутыми\"/Advanced студентами, а во втором семестре составила всего 0,58 балла, хотя продвинутые студенты всё еще могут похвастать самым высоким средним баллом за экзамен.\n",
    "* Также изменилась расстановка групп \"ниже среднего\"/Pre-Intermediate и \"начинающих\"/Elementary - если в первом семестре самый слабый уровень отставал по среднему баллу на 1,23 от групп \"ниже среднего\", то во втором семестре они поменялись местами - группы \"ниже среднего\" показали не только самый слабый результат из всех уровней, но и отстали от \"начинающих\" групп, а также показали более низкий результат, чем у \"начинающих\" групп в первом семестре.\n",
    "* Студенты Elementary смогли в среднем улучшить балл на экзамене на 2,53, что существенно.\n",
    "* В заключение, добавим, что здесь также наблюдается тенденция на снижение среднего балла по сравнению с первым семестром, он вырос только у групп \"выше среднего\"/Upper Intermediate и Elementary во втором семестре - на 1,12 и 2,53 балла соответственно."
   ]
  },
  {
   "cell_type": "markdown",
   "id": "63072107-f002-4c83-8eba-a8d0e6871033",
   "metadata": {
    "id": "63072107-f002-4c83-8eba-a8d0e6871033"
   },
   "source": [
    "Прежде чем подвести итог исследования изучим также разброс баллов за ответ на экзамене в обоих семестрах."
   ]
  },
  {
   "cell_type": "code",
   "execution_count": 46,
   "id": "8981f0f3-feae-423c-8d3a-7faba874259b",
   "metadata": {
    "colab": {
     "base_uri": "https://localhost:8080/",
     "height": 473
    },
    "id": "8981f0f3-feae-423c-8d3a-7faba874259b",
    "outputId": "a94d23f6-332b-46c1-8792-2b4660e89ec0"
   },
   "outputs": [
    {
     "data": {
      "image/png": "[encoded data removed]",
      "text/plain": [
       "<Figure size 640x480 with 1 Axes>"
      ]
     },
     "metadata": {},
     "output_type": "display_data"
    }
   ],
   "source": [
    "sns.violinplot(x=df['oral_exam'], inner='point');\n",
    "plt.title('Распределение баллов за устный экзамен, 1 сем. (Рис.5)\\n');\n",
    "plt.xlabel(None);"
   ]
  },
  {
   "cell_type": "code",
   "execution_count": 47,
   "id": "03a44d3a-84de-4c14-a80a-a7643f55b31b",
   "metadata": {
    "colab": {
     "base_uri": "https://localhost:8080/",
     "height": 473
    },
    "id": "03a44d3a-84de-4c14-a80a-a7643f55b31b",
    "outputId": "94699426-33a3-403f-c6a3-24cf9d0ce1b7"
   },
   "outputs": [
    {
     "data": {
      "image/png": "[encoded data removed]",
      "text/plain": [
       "<Figure size 640x480 with 1 Axes>"
      ]
     },
     "metadata": {},
     "output_type": "display_data"
    }
   ],
   "source": [
    "#увеличим гранулярность данных, добавив уровни владения\n",
    "sns.violinplot(x=df['oral_exam'], y=df['level'], inner='point');\n",
    "plt.title('Распределение баллов на экзамене + уровни владения, 1 сем. (Рис.6)\\n');\n",
    "plt.xlabel(None);"
   ]
  },
  {
   "cell_type": "code",
   "execution_count": 48,
   "id": "2bbdb42a-df37-414a-ba80-963166dc9339",
   "metadata": {
    "colab": {
     "base_uri": "https://localhost:8080/",
     "height": 473
    },
    "id": "2bbdb42a-df37-414a-ba80-963166dc9339",
    "outputId": "80524302-da28-4150-d470-eda47ca1acdc"
   },
   "outputs": [
    {
     "data": {
      "image/png": "[encoded data removed]",
      "text/plain": [
       "<Figure size 640x480 with 1 Axes>"
      ]
     },
     "metadata": {},
     "output_type": "display_data"
    }
   ],
   "source": [
    "#повторим для второго семестра\n",
    "sns.violinplot(x=df2['oral_exam_2nd_term'], inner='point');\n",
    "plt.title('Распределение баллов за устный экзамен, 2 сем. (Рис.7)\\n');\n",
    "plt.xlabel(None);"
   ]
  },
  {
   "cell_type": "code",
   "execution_count": 49,
   "id": "c5a87309-46df-4d87-b91c-a95384912f7d",
   "metadata": {
    "colab": {
     "base_uri": "https://localhost:8080/",
     "height": 473
    },
    "id": "c5a87309-46df-4d87-b91c-a95384912f7d",
    "outputId": "dd32b316-7b5a-4b20-a793-eff0d041fbf5"
   },
   "outputs": [
    {
     "data": {
      "image/png": "[encoded data removed]",
      "text/plain": [
       "<Figure size 640x480 with 1 Axes>"
      ]
     },
     "metadata": {},
     "output_type": "display_data"
    }
   ],
   "source": [
    "sns.violinplot(x=df2['oral_exam_2nd_term'], y=df2['level'], inner='point');\n",
    "plt.title('Распределение баллов на экзамене + уровни владения, 2 сем. (Рис.8)\\n');\n",
    "plt.xlabel(None);"
   ]
  },
  {
   "cell_type": "markdown",
   "id": "3d784686-f60c-491c-a0f0-411e3ef7d81a",
   "metadata": {
    "id": "3d784686-f60c-491c-a0f0-411e3ef7d81a"
   },
   "source": [
    "### Выводы по анализу баллов за устный экзамен\n",
    "* Мы обнаружили, что средний балл за устный экзамен подвержен такому же тренду, как и баллы за семестр(с учетом экзамена и без) - тренд на снижение семестр к семестру, но есть и несколько нюансов.\n",
    "* Помимо тренда на снижение, размер средного балла на экзамене строго коррелирует с уровнем владения языком: самый высокий балл у \"продвинутых групп\"/Advanced, cамый низкий - у \"начинающих\"/Elementary. Во втором семестре этот тренд, однако, меняется: разрыв между \"продвинутыми\" группами и таковыми \"ниже среднего\" сокращается и становится едва заметным(0,58 балла против 2,23 в первом семестре), а группы \"ниже среднего\" показывают не только самый слабый результат из всех уровней, отстают от \"начинающих\" групп, а также показывают более низкий результат, чем у \"начинающих\" групп в первом семестре.\n",
    "* Как уже отмечалось выше, группы Advanced немного просели в своих экзаменационных результатах во втором семестре, а Upper Intermediate - наоборот почти догнал более старший уровень.\n",
    "\n",
    "**Также уделим внимание визуализации оценок за экзамен в первом и втором семестре на скрипичной диаграмме**\n",
    "Данный тип диаграммы удобен тем, что отображает не только разброс значений, что могло бы помочь выявить выбросы, но и плотность/многочисленность значений. Опишем ряд наблюдений:\n",
    "* В первом семестре студенты большинства уровней, кроме Elementary и Pre-Intermediate, предпочитали отвечать на экзамене, а не отказыаться от ответа, об этом можно судить по разбросу на графиках (см. Рис.6), где бОльшая часть баллов сосредоточена между 5 и 20 баллами(максимальный), в противном случае пик был бы в районе нуля баллов при многочисленных отказах.\n",
    "* Исключение составляют группы Elementary и Pre-Intermediate, у которых видно сосредоточение около отметки 0, т.е. студенты чаще выбирают отказ от устного ответа. Видимо здесь имеет место неуверенность в своих силах, свойственная студентам низких уровней.\n",
    "* На высоких уровнях (Advanced и Upper Intermediate) меньше нулевых значений, что лишь подтверждает предыдущий вывод о корреляции желания отвечать на экзамене и уровня владения языком.\n",
    "* Скрипичный график за второй семестр (см. Рис.8) также указывает на то, что студент уровня \"ниже среднего\"/Pre-Intermediate чаще отказывались от экзамена(пик у нуля), что подкрепляет наблюдение из предыдущего раздела о снижении среднего, похоже, что здесь есть связь.\n",
    "* Аналогично, график за второй семестр (см. Рис.8) демонстрирует, что студенты уровня \"начинающие\" наоборот реже отказывались от ответа в летнюю сессию, поэтому средний балл за экзамен заметно вырос семестр к семестру.\n",
    "* Что касается графиков разброса баллов для всех групп (см. Рис. 5 и 7 соответственно), вне зависимости от их уровня, то тут картина примерно одинакова в двух семестрах, но во втором семестре разброс больше сконцентрирован на 0(отказ от ответа) и от 4 до 20, хотя в первом семестре рассеяние более равномерное по всей шкале от 0 до 20."
   ]
  },
  {
   "cell_type": "markdown",
   "id": "38c51a96-0cb9-4434-b0e7-e32317238e05",
   "metadata": {
    "id": "38c51a96-0cb9-4434-b0e7-e32317238e05"
   },
   "source": [
    "## Заключительные выводы и рекомендации\n",
    "\n",
    "Мы изучили данные успеваемости студентов за два семестра и можем указать на некоторые закономерности, которые необходимо глубже изучить.\n",
    "* Все группы демонстрируют снижение баллов по большинству аспектов, а также снижение среднего балла за экзамен семестр к семестру, исходя из чего есть смысл провести анкетирование среди студентов, где было бы целесообразно дать им возможность оценить сложность материала, качество подачи, жесткость требований на экзаменах и так далее. Анкетирование имеет смысл проводить после каждого модуля, \"по горячим следам\", пока студенты еще могут объективно выразить свое восприятие. Подобная мера поможет понять, вызвано ли снижение баллов общей усталость за учебный год или другими факторами, поддающимися корректировке.\n",
    "* Количество неявок на экзамен незначительно увеличилось к концу учебного года, от 4,9% от общего числа студентов в 1м семестре до 6,8% во 2м, что не выглядит угрожающей тенденцией. В качестве рекомендации можно предложить дополнительное информирование студентов по электронной почте(если они не получили информацию на занятиях из-за редкого посещения или других причин), чтобы можно было развеять страх перед устным экзаменом.\n",
    "* Также рекомендуется проводить подобный анализ успеваемости ежегодно/ежесеместрово, чтобы выявлять заблаговременно снижение успеваемости и прорабатывать возможные причины, тем самым повышая удовлетворенность студентов учебным процессом."
   ]
  }
 ],
 "metadata": {
  "colab": {
   "provenance": []
  },
  "kernelspec": {
   "display_name": "Python 3 (ipykernel)",
   "language": "python",
   "name": "python3"
  },
  "language_info": {
   "codemirror_mode": {
    "name": "ipython",
    "version": 3
   },
   "file_extension": ".py",
   "mimetype": "text/x-python",
   "name": "python",
   "nbconvert_exporter": "python",
   "pygments_lexer": "ipython3",
   "version": "3.11.7"
  }
 },
 "nbformat": 4,
 "nbformat_minor": 5
}
